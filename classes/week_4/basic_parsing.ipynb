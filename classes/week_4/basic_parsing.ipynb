{
 "cells": [
  {
   "cell_type": "code",
   "execution_count": 1,
   "metadata": {},
   "outputs": [
    {
     "name": "stdout",
     "output_type": "stream",
     "text": [
      "(S\n",
      "  (NP-SBJ\n",
      "    (NP (NNP Pierre) (NNP Vinken))\n",
      "    (, ,)\n",
      "    (ADJP (NP (CD 61) (NNS years)) (JJ old))\n",
      "    (, ,))\n",
      "  (VP\n",
      "    (MD will)\n",
      "    (VP\n",
      "      (VB join)\n",
      "      (NP (DT the) (NN board))\n",
      "      (PP-CLR (IN as) (NP (DT a) (JJ nonexecutive) (NN director)))\n",
      "      (NP-TMP (NNP Nov.) (CD 29))))\n",
      "  (. .))\n",
      "(S\n",
      "  (NP-SBJ (NNP Mr.) (NNP Vinken))\n",
      "  (VP\n",
      "    (VBZ is)\n",
      "    (NP-PRD\n",
      "      (NP (NN chairman))\n",
      "      (PP\n",
      "        (IN of)\n",
      "        (NP\n",
      "          (NP (NNP Elsevier) (NNP N.V.))\n",
      "          (, ,)\n",
      "          (NP (DT the) (NNP Dutch) (VBG publishing) (NN group))))))\n",
      "  (. .))\n"
     ]
    }
   ],
   "source": [
    "from nltk.corpus import treebank\n",
    "t = treebank.parsed_sents('wsj_0001.mrg')\n",
    "for tree in t:\n",
    "    print(tree)\n",
    "    tree.draw()"
   ]
  },
  {
   "cell_type": "code",
   "execution_count": 2,
   "metadata": {},
   "outputs": [
    {
     "name": "stdout",
     "output_type": "stream",
     "text": [
      "(S\n",
      "  (NP I)\n",
      "  (VP\n",
      "    (VP (V shot) (NP (Det an) (N elephant)))\n",
      "    (PP (P in) (NP (Det my) (N pajamas)))))\n",
      "(S\n",
      "  (NP I)\n",
      "  (VP\n",
      "    (V shot)\n",
      "    (NP (Det an) (N elephant) (PP (P in) (NP (Det my) (N pajamas))))))\n"
     ]
    }
   ],
   "source": [
    "import nltk\n",
    "from nltk import CFG\n",
    "grammar = CFG.fromstring(\"\"\"\n",
    "    S -> NP VP\n",
    "    PP -> P NP\n",
    "    NP -> Det N | Det N PP | 'I'\n",
    "    VP -> V NP | VP PP\n",
    "    Det -> 'an' | 'my'\n",
    "    N -> 'elephant' | 'pajamas'\n",
    "    V -> 'shot'\n",
    "    P -> 'in'\n",
    "  \"\"\")\n",
    "sent = [\"I\", \"shot\", \"an\", \"elephant\", \"in\", \"my\", \"pajamas\"]\n",
    "parser = nltk.ChartParser(grammar)\n",
    "for tree in parser.parse(sent):\n",
    "    print(tree)"
   ]
  },
  {
   "cell_type": "code",
   "execution_count": 3,
   "metadata": {},
   "outputs": [
    {
     "name": "stdout",
     "output_type": "stream",
     "text": [
      "an elephant shot an elephant\n",
      "an elephant shot an pajamas\n",
      "an elephant shot my elephant\n",
      "an elephant shot my pajamas\n",
      "an elephant shot an elephant in an elephant\n",
      "an elephant shot an elephant in an pajamas\n",
      "an elephant shot an elephant in my elephant\n",
      "an elephant shot an elephant in my pajamas\n",
      "an elephant shot an elephant in an elephant in an elephant\n",
      "an elephant shot an elephant in an elephant in an pajamas\n"
     ]
    }
   ],
   "source": [
    "from nltk.parse.generate import generate\n",
    "for sentence in generate(grammar, n=10):\n",
    "    print(' '.join(sentence))"
   ]
  },
  {
   "cell_type": "code",
   "execution_count": 4,
   "metadata": {},
   "outputs": [
    {
     "name": "stdout",
     "output_type": "stream",
     "text": [
      "error parsing the sentence\n"
     ]
    }
   ],
   "source": [
    "from nltk import CFG\n",
    "grammar = CFG.fromstring(\"\"\"\n",
    "    S -> NP VP\n",
    "    PP -> P NP\n",
    "    NP -> Det N | Det N PP | 'I' | DT NN | P\n",
    "    VP -> V NP | VP PP\n",
    "    Det -> 'an' | 'my' |'DT'\n",
    "    N -> 'elephant' | 'pajamas'|'NN'\n",
    "    V -> 'shot'|'VBP'|'VBD'\n",
    "    P -> 'in'|'PRP$'| 'PRP'| 'IN'\n",
    "    \n",
    "\n",
    "  \"\"\")\n",
    "sent = [\"I\", \"shot\", \"an\", \"elephant\", \"in\", \"my\", \"sweatshirt\"]\n",
    "try:\n",
    "    parser = nltk.ChartParser(grammar)\n",
    "    for tree in parser.parse(sent):\n",
    "        print(tree)\n",
    "except:\n",
    "    print(\"error parsing the sentence\")\n",
    "    \n",
    "    \n"
   ]
  },
  {
   "cell_type": "code",
   "execution_count": 5,
   "metadata": {},
   "outputs": [
    {
     "name": "stdout",
     "output_type": "stream",
     "text": [
      "['I', 'shot', 'him']\n",
      "[('I', 'PRP'), ('shot', 'VBD'), ('him', 'PRP')]\n",
      "['PRP', 'VBD', 'PRP']\n",
      "(S (NP (P PRP)) (VP (V VBD) (NP (P PRP))))\n",
      "tse\n"
     ]
    }
   ],
   "source": [
    "import nltk\n",
    "from nltk.tokenize import TreebankWordTokenizer\n",
    "treebank_tokenizer = TreebankWordTokenizer()\n",
    "\n",
    "input = \"I shot him\"\n",
    "tokens = treebank_tokenizer.tokenize(input)\n",
    "print(tokens)\n",
    "\n",
    "pos_tags = nltk.pos_tag(tokens)\n",
    "print(pos_tags)\n",
    "pos_only = [tag[1] for tag in pos_tags]\n",
    "print(pos_only)\n",
    "parser = nltk.ChartParser(grammar)\n",
    "\n",
    "for tree in parser.parse(pos_only):\n",
    "        print(tree)\n",
    "    \n",
    "print(\"tse\")"
   ]
  },
  {
   "cell_type": "code",
   "execution_count": 2,
   "metadata": {},
   "outputs": [
    {
     "name": "stdout",
     "output_type": "stream",
     "text": [
      "Constituency Parsing: (ROOT\n",
      "  (S\n",
      "    (NP (DT The) (NN ship))\n",
      "    (VP (VBZ has)\n",
      "      (VP (VBN sailed)))\n",
      "    (. .)))\n"
     ]
    }
   ],
   "source": [
    "from stanfordcorenlp import StanfordCoreNLP\n",
    "\n",
    "#nlp = StanfordCoreNLP(r'/products/corenlp/stanford-corenlp-full-2018-02-27')\n",
    "nlp = StanfordCoreNLP('http://localhost', port=9000)\n",
    "sentence = 'The ship has sailed.'\n",
    "constituency = nlp.parse(sentence)\n",
    "print('Constituency Parsing:', constituency)\n",
    "\n",
    "nlp.close() # Do not forget to close! The backend server will consume a lot memery."
   ]
  },
  {
   "cell_type": "code",
   "execution_count": 3,
   "metadata": {},
   "outputs": [
    {
     "name": "stdout",
     "output_type": "stream",
     "text": [
      "(ROOT\n",
      "  (S\n",
      "    (NP (DT The) (NN ship))\n",
      "    (VP (VBZ has)\n",
      "      (VP (VBN sailed)))\n",
      "    (. .)))\n"
     ]
    }
   ],
   "source": [
    "print(constituency)"
   ]
  },
  {
   "cell_type": "code",
   "execution_count": 4,
   "metadata": {},
   "outputs": [
    {
     "name": "stdout",
     "output_type": "stream",
     "text": [
      "             ROOT               \n",
      "              |                  \n",
      "              S                 \n",
      "      ________|_______________   \n",
      "     |             VP         | \n",
      "     |         ____|____      |  \n",
      "     NP       |         VP    | \n",
      "  ___|___     |         |     |  \n",
      " DT      NN  VBZ       VBN    . \n",
      " |       |    |         |     |  \n",
      "The     ship has      sailed  . \n",
      "\n"
     ]
    }
   ],
   "source": [
    "from nltk.tree import *\n",
    "Tree.fromstring(constituency).pretty_print()\n",
    "const_tree = Tree.fromstring(constituency)"
   ]
  },
  {
   "cell_type": "code",
   "execution_count": 5,
   "metadata": {},
   "outputs": [
    {
     "name": "stdout",
     "output_type": "stream",
     "text": [
      "Label: S\n",
      "Leaves: ['The', 'ship', 'has', 'sailed', '.']\n",
      "Label: NP\n",
      "Leaves: ['The', 'ship']\n",
      "Label: DT\n",
      "Leaves: ['The']\n",
      "Word: The\n",
      "Label: NN\n",
      "Leaves: ['ship']\n",
      "Word: ship\n",
      "Label: VP\n",
      "Leaves: ['has', 'sailed']\n",
      "Label: VBZ\n",
      "Leaves: ['has']\n",
      "Word: has\n",
      "Label: VP\n",
      "Leaves: ['sailed']\n",
      "Label: VBN\n",
      "Leaves: ['sailed']\n",
      "Word: sailed\n",
      "Label: .\n",
      "Leaves: ['.']\n",
      "Word: .\n"
     ]
    }
   ],
   "source": [
    "def getNodes(parent):\n",
    "    for node in parent:\n",
    "        if type(node) is Tree:\n",
    "            if node.label() == \"ROOT\":\n",
    "                print(\"======== Sentence =========\")\n",
    "                print(\"Sentence:\", \" \".join(node.leaves()))\n",
    "            else:\n",
    "                print(\"Label:\", node.label())\n",
    "                print(\"Leaves:\", node.leaves())\n",
    "\n",
    "            getNodes(node)\n",
    "        else:\n",
    "            print(\"Word:\", node)\n",
    "getNodes(const_tree)"
   ]
  },
  {
   "cell_type": "code",
   "execution_count": null,
   "metadata": {},
   "outputs": [],
   "source": []
  }
 ],
 "metadata": {
  "kernelspec": {
   "display_name": "Python 3",
   "language": "python",
   "name": "python3"
  },
  "language_info": {
   "codemirror_mode": {
    "name": "ipython",
    "version": 3
   },
   "file_extension": ".py",
   "mimetype": "text/x-python",
   "name": "python",
   "nbconvert_exporter": "python",
   "pygments_lexer": "ipython3",
   "version": "3.6.5"
  }
 },
 "nbformat": 4,
 "nbformat_minor": 2
}
