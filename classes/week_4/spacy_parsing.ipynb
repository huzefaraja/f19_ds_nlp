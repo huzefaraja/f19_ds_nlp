{
 "cells": [
  {
   "cell_type": "code",
   "execution_count": 1,
   "metadata": {},
   "outputs": [
    {
     "name": "stdout",
     "output_type": "stream",
     "text": [
      "Apple apple PROPN NNP nsubj Xxxxx True False\n",
      "is be VERB VBZ aux xx True True\n",
      "looking look VERB VBG ROOT xxxx True False\n",
      "at at ADP IN prep xx True True\n",
      "buying buy VERB VBG pcomp xxxx True False\n",
      "U.K. u.k. PROPN NNP compound X.X. False False\n",
      "startup startup NOUN NN dobj xxxx True False\n",
      "for for ADP IN prep xxx True True\n",
      "$ $ SYM $ quantmod $ False False\n",
      "1 1 NUM CD compound d False False\n",
      "billion billion NUM CD pobj xxxx True False\n"
     ]
    }
   ],
   "source": [
    "import spacy\n",
    "\n",
    "nlp = spacy.load('en_core_web_sm')\n",
    "doc = nlp(u'Apple is looking at buying U.K. startup for $1 billion')\n",
    "\n",
    "for token in doc:\n",
    "    print(token.text, token.lemma_, token.pos_, token.tag_, token.dep_,\n",
    "          token.shape_, token.is_alpha, token.is_stop)"
   ]
  },
  {
   "cell_type": "code",
   "execution_count": null,
   "metadata": {},
   "outputs": [
    {
     "name": "stdout",
     "output_type": "stream",
     "text": [
      "\n",
      "\u001b[93m    Serving on port 5000...\u001b[0m\n",
      "    Using the 'dep' visualizer\n",
      "\n"
     ]
    }
   ],
   "source": [
    "from spacy import displacy\n",
    "displacy.serve(doc, style='dep')"
   ]
  },
  {
   "cell_type": "code",
   "execution_count": 2,
   "metadata": {},
   "outputs": [
    {
     "name": "stdout",
     "output_type": "stream",
     "text": [
      "[{'word': 'looking', 'POS_fine': 'VBG', 'POS_coarse': 'VERB', 'arc': 'ROOT', 'modifiers': [{'word': 'Apple', 'lemma': 'Apple', 'NE': 'ORG', 'POS_fine': 'NNP', 'POS_coarse': 'PROPN', 'arc': 'nsubj', 'modifiers': []}, {'word': 'is', 'lemma': 'be', 'NE': '', 'POS_fine': 'VBZ', 'POS_coarse': 'VERB', 'arc': 'aux', 'modifiers': []}, {'word': 'at', 'lemma': 'at', 'NE': '', 'POS_fine': 'IN', 'POS_coarse': 'ADP', 'arc': 'prep', 'modifiers': [{'word': 'buying', 'lemma': 'buy', 'NE': '', 'POS_fine': 'VBG', 'POS_coarse': 'VERB', 'arc': 'pcomp', 'modifiers': [{'word': 'startup', 'lemma': 'startup', 'NE': '', 'POS_fine': 'NN', 'POS_coarse': 'NOUN', 'arc': 'dobj', 'modifiers': [{'word': 'U.K.', 'lemma': 'U.K.', 'NE': 'GPE', 'POS_fine': 'NNP', 'POS_coarse': 'PROPN', 'arc': 'compound', 'modifiers': []}]}, {'word': 'for', 'lemma': 'for', 'NE': '', 'POS_fine': 'IN', 'POS_coarse': 'ADP', 'arc': 'prep', 'modifiers': [{'word': '$ 1 billion', 'lemma': '$ 1 billion', 'NE': 'MONEY', 'POS_fine': 'CD', 'POS_coarse': 'NUM', 'arc': 'pobj', 'modifiers': []}]}]}]}]}]\n"
     ]
    }
   ],
   "source": [
    "print(doc.print_tree(light=True))"
   ]
  },
  {
   "cell_type": "code",
   "execution_count": 3,
   "metadata": {},
   "outputs": [
    {
     "name": "stdout",
     "output_type": "stream",
     "text": [
      "Apple PROPN nsubj\n",
      "is VERB aux\n",
      "looking VERB ROOT\n",
      "at ADP prep\n",
      "buying VERB pcomp\n",
      "U.K. PROPN compound\n",
      "startup NOUN dobj\n",
      "for ADP prep\n",
      "$ SYM quantmod\n",
      "1 NUM compound\n",
      "billion NUM pobj\n"
     ]
    }
   ],
   "source": [
    "for token in doc:\n",
    "    print(token.text, token.pos_, token.dep_)"
   ]
  },
  {
   "cell_type": "code",
   "execution_count": 4,
   "metadata": {},
   "outputs": [
    {
     "name": "stdout",
     "output_type": "stream",
     "text": [
      "Apple nsubj looking VERB []\n",
      "is aux looking VERB []\n",
      "looking ROOT looking VERB [Apple, is, at]\n",
      "at prep looking VERB [buying]\n",
      "buying pcomp at ADP [startup, for]\n",
      "U.K. compound startup NOUN []\n",
      "startup dobj buying VERB [U.K.]\n",
      "for prep buying VERB [billion]\n",
      "$ quantmod billion NUM []\n",
      "1 compound billion NUM []\n",
      "billion pobj for ADP [$, 1]\n"
     ]
    }
   ],
   "source": [
    "for token in doc:\n",
    "    print(token.text, token.dep_, token.head.text, token.head.pos_,\n",
    "          [child for child in token.children])"
   ]
  },
  {
   "cell_type": "code",
   "execution_count": 5,
   "metadata": {},
   "outputs": [
    {
     "name": "stdout",
     "output_type": "stream",
     "text": [
      "Apple Apple nsubj looking\n",
      "U.K. startup startup dobj buying\n"
     ]
    }
   ],
   "source": [
    "for chunk in doc.noun_chunks:\n",
    "    print(chunk.text, chunk.root.text, chunk.root.dep_,\n",
    "          chunk.root.head.text)"
   ]
  },
  {
   "cell_type": "code",
   "execution_count": null,
   "metadata": {},
   "outputs": [],
   "source": []
  }
 ],
 "metadata": {
  "kernelspec": {
   "display_name": "Python 3",
   "language": "python",
   "name": "python3"
  },
  "language_info": {
   "codemirror_mode": {
    "name": "ipython",
    "version": 3
   },
   "file_extension": ".py",
   "mimetype": "text/x-python",
   "name": "python",
   "nbconvert_exporter": "python",
   "pygments_lexer": "ipython3",
   "version": "3.6.5"
  }
 },
 "nbformat": 4,
 "nbformat_minor": 2
}
