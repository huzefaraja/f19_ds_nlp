{
 "cells": [
  {
   "cell_type": "code",
   "execution_count": 1,
   "metadata": {},
   "outputs": [],
   "source": [
    "text = \"\"\"The pressure on the Ukrainian leader, the whistleblower alleged, was applied in a phone call July 25 between Trump and President Volodymyr Zelensky, an exchange that turned so politically problematic that White House lawyers directed other officials to remove the electronic transcript of the conversation from the computer system where it was stored.\n",
    "\n",
    "The transcript, the whistleblower alleged, was then loaded onto a separate system meant for highly classified information. And according to White House officials who informed the whistleblower, that was “not the first time” a transcript was put there because of concerns about politics rather than national security, the complaint alleged.\n",
    "\n",
    "Trump, the whistleblower wrote, was “using the power of his office to solicit interference from a foreign country in the 2020 U.S. election.”\n",
    "\n",
    "Acting director of national intelligence Joseph Maguire would not discuss conversations he had with President Trump at a House Intelligence Committee hearing. (Photo: Matt McClain/The Washington Post)\n",
    "\n",
    "[Intelligence chief Maguire defends his handling of whistleblower complaint in testimony before Congress]\n",
    "\n",
    "The whistleblower’s assertions — made public Thursday after House Intelligence Committee Chairman Adam B. Schiff (D-Calif.) released the complaint — ramped up an already intense political battle that this week led congressional Democrats to formally launch an inquiry into whether Trump should be impeached.\n",
    "\n",
    "At a hearing to question Trump’s acting director of national intelligence, Democrats pressed Joseph Maguire, the acting chief, on why he had not given Congress the complaint sooner, as they say the law required. Republicans attacked the reliability of the whistleblower’s information as unproven hearsay.\n",
    "\n",
    "Maguire told lawmakers that he believed the whistleblower had acted “in good faith” but declined to offer any conclusion about the allegations.\n",
    "\n",
    "House Speaker Nancy Pelosi (D-Calif.) read portions of the complaint to reporters Thursday, declaring: “This is a coverup.”\n",
    "\n",
    "Trump lashed out publicly and privately against the accusations. At a closed-door event Thursday in New York to thank U.S. personnel who had worked on his visit to the United Nations General Assembly, the president suggested darkly that the people who spoke about his conversation with Zelensky should be viewed as traitors.\n",
    "\n",
    "“I want to know who’s the person, who’s the person who gave the whistleblower the information? Because that’s close to a spy,” he said in a recording of the remarks obtained by the Los Angeles Times. “You know what we used to do in the old days when we were smart? Right? The spies and treason, we used to handle it a little differently than we do now.”\n",
    "\n",
    "[Trump offered Ukrainian president Justice Dept. help in an investigation of Biden, memo shows]\n",
    "\n",
    "The whistleblower is a CIA employee, a fact first reported by the New York Times. The whistleblower’s complaint, dated Aug. 12, has a two page addendum, portions of which remain classified. It was directed to the heads of the House and Senate intelligence committees, spelling out what the whistleblower, who is a U.S. intelligence official, felt was an “urgent concern” based on information more than a half-dozen officials had shared.\n",
    "\n",
    "The whistleblower alleged that Trump had solicited election interference that “includes, among other things, pressuring a foreign country to investigate one of the President’s main domestic political rivals.”\n",
    "\n",
    "“The President’s personal lawyer, Mr. Rudolph W. Giuliani, is a central figure in this effort,” the whistleblower wrote. “Attorney General [William P.] Barr appears to be involved as well,” the complaint stated.\n",
    "\n",
    "A spokeswoman for Barr has said that he did not know about the phone call until the whistleblower issue was raised and that he had not spoken with Trump about assisting Ukraine with an investigation of Biden or his son.\n",
    "\n",
    "In the July phone call, Trump repeatedly pressed Zelensky to investigate the Bidens.\"\"\""
   ]
  },
  {
   "cell_type": "code",
   "execution_count": 3,
   "metadata": {},
   "outputs": [],
   "source": [
    "import spacy"
   ]
  },
  {
   "cell_type": "code",
   "execution_count": 4,
   "metadata": {},
   "outputs": [],
   "source": [
    "nlp = spacy.load(\"en_core_web_sm\")"
   ]
  },
  {
   "cell_type": "code",
   "execution_count": 5,
   "metadata": {},
   "outputs": [],
   "source": [
    "analyzed = nlp(text)"
   ]
  },
  {
   "cell_type": "code",
   "execution_count": 17,
   "metadata": {},
   "outputs": [
    {
     "name": "stdout",
     "output_type": "stream",
     "text": [
      "61.640556753519036\n"
     ]
    }
   ],
   "source": [
    "total_words = len(list(analyzed))\n",
    "total_sentences = len(list(analyzed.sents))\n",
    "total_syllables = sum([len(word.text) for word in analyzed])/3\n",
    "\n",
    "score = 206.835 - (1.015 *(total_words/total_sentences)) - (84.6 * (total_syllables/total_words))\n",
    "print(score)"
   ]
  },
  {
   "cell_type": "code",
   "execution_count": 12,
   "metadata": {},
   "outputs": [
    {
     "name": "stdout",
     "output_type": "stream",
     "text": [
      "[The pressure on the Ukrainian leader, the whistleblower alleged, was applied in a phone call July 25 between Trump and President Volodymyr Zelensky, an exchange that turned so politically problematic that White House lawyers directed other officials to remove the electronic transcript of the conversation from the computer system where it was stored.\n",
      "\n",
      ", The transcript, the whistleblower alleged, was then loaded onto a separate system meant for highly classified information., And according to White House officials who informed the whistleblower, that was “not the first time, ”, a transcript was put there because of concerns about politics rather than national security, the complaint alleged.\n",
      "\n",
      ", Trump, the whistleblower wrote, was “using the power of his office to solicit interference from a foreign country in the 2020 U.S. election., ”\n",
      "\n",
      ", Acting director of national intelligence Joseph Maguire would not discuss conversations he had with President Trump at a House Intelligence Committee hearing., (Photo:, Matt McClain/, The Washington Post)\n",
      "\n",
      "[, Intelligence chief Maguire defends his handling of whistleblower complaint in testimony before Congress]\n",
      "\n",
      ", The whistleblower’s assertions —, made public Thursday after House Intelligence Committee Chairman Adam B. Schiff (D-Calif.), released the complaint — ramped up an already intense political battle that this week led congressional Democrats to formally launch an inquiry into whether Trump should be impeached.\n",
      "\n",
      ", At a hearing to question Trump’s acting director of national intelligence, Democrats pressed Joseph Maguire, the acting chief, on why he had not given Congress the complaint sooner, as they say the law required., Republicans attacked the reliability of the whistleblower’s information as unproven hearsay.\n",
      "\n",
      ", Maguire told lawmakers that he believed the whistleblower had acted “in good faith” but declined to offer any conclusion about the allegations.\n",
      "\n",
      ", House Speaker Nancy Pelosi (D-Calif.), read portions of the complaint to reporters Thursday, declaring:, “, This is a coverup., ”\n",
      "\n",
      ", Trump lashed out publicly and privately against the accusations., At a closed-door event Thursday in New York to thank U.S. personnel who had worked on his visit to the United Nations General Assembly, the president suggested darkly that the people who spoke about his conversation with Zelensky should be viewed as traitors.\n",
      "\n",
      ", “, I want to know who’s the person, who’s the person who gave the whistleblower the information?, Because that’s close to a spy,” he said in a recording of the remarks obtained by the Los Angeles Times., “, You know what we used to do in the old days when we were smart?, Right?, The spies and treason, we used to handle it a little differently than we do now., ”\n",
      "\n",
      ", [Trump offered Ukrainian president Justice Dept. help in an investigation of Biden, memo shows]\n",
      "\n",
      ", The whistleblower is a CIA employee, a fact first reported by the New York Times., The whistleblower’s complaint, dated Aug. 12, has a two page addendum, portions of which remain classified., It was directed to the heads of the House and Senate intelligence committees, spelling out what the whistleblower, who is a U.S. intelligence official, felt was an “urgent concern” based on information more than a half-dozen officials had shared.\n",
      "\n",
      ", The whistleblower alleged that Trump had solicited election interference that “includes, among other things, pressuring a foreign country to investigate one of the President’s main domestic political rivals., ”\n",
      "\n",
      ", “, The President’s personal lawyer, Mr. Rudolph W. Giuliani, is a central figure in this effort,” the whistleblower wrote., “Attorney General [William P.], Barr appears to be involved as well,” the complaint stated.\n",
      "\n",
      ", A spokeswoman for Barr has said that he did not know about the phone call until the whistleblower issue was raised and that he had not spoken with Trump about assisting Ukraine with an investigation of Biden or his son.\n",
      "\n",
      ", In the July phone call, Trump repeatedly pressed Zelensky to investigate the Bidens.]\n"
     ]
    }
   ],
   "source": [
    "print(list(analyzed.sents))"
   ]
  },
  {
   "cell_type": "code",
   "execution_count": null,
   "metadata": {},
   "outputs": [],
   "source": []
  }
 ],
 "metadata": {
  "kernelspec": {
   "display_name": "Python 3",
   "language": "python",
   "name": "python3"
  },
  "language_info": {
   "codemirror_mode": {
    "name": "ipython",
    "version": 3
   },
   "file_extension": ".py",
   "mimetype": "text/x-python",
   "name": "python",
   "nbconvert_exporter": "python",
   "pygments_lexer": "ipython3",
   "version": "3.6.5"
  }
 },
 "nbformat": 4,
 "nbformat_minor": 2
}
