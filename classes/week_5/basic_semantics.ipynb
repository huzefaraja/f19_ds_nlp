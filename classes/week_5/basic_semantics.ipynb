{
 "cells": [
  {
   "cell_type": "markdown",
   "metadata": {},
   "source": [
    "Starting from the Bird book, we can begin to represent a set of items."
   ]
  },
  {
   "cell_type": "code",
   "execution_count": 4,
   "metadata": {},
   "outputs": [
    {
     "name": "stdout",
     "output_type": "stream",
     "text": [
      "{'b1', 'g2', 'g1', 'd1', 'b2'}\n",
      "Domain = {'b1', 'g2', 'g1', 'd1', 'b2'},\n",
      "Valuation = \n",
      "{'adam': 'b1',\n",
      " 'betty': 'g1',\n",
      " 'boy': {('b2',), ('b1',)},\n",
      " 'dog': {('d1',)},\n",
      " 'fido': 'd1',\n",
      " 'girl': {('g2',), ('g1',)},\n",
      " 'love': {('g1', 'b1'), ('b1', 'g1'), ('g2', 'b1'), ('b2', 'g2')},\n",
      " 'walk': {('g1',)}}\n"
     ]
    }
   ],
   "source": [
    "import nltk\n",
    "from nltk.sem import Valuation, Model\n",
    "v = [('adam', 'b1'), ('betty', 'g1'), ('fido', 'd1'),\n",
    "    ('girl', set(['g1', 'g2'])), ('boy', set(['b1', 'b2'])),\n",
    "    ('dog', set(['d1'])),\n",
    "    ('walk', set(['g1'])),\n",
    "    ('love', set([('b1', 'g1'), ('b2', 'g2'), ('g1', 'b1'), ('g2', 'b1')]))]\n",
    "val = Valuation(v)\n",
    "dom = val.domain\n",
    "print(dom)\n",
    "m = Model(dom, val)\n",
    "print(m)"
   ]
  },
  {
   "cell_type": "code",
   "execution_count": 2,
   "metadata": {},
   "outputs": [
    {
     "data": {
      "text/plain": [
       "True"
      ]
     },
     "execution_count": 2,
     "metadata": {},
     "output_type": "execute_result"
    }
   ],
   "source": [
    "g = nltk.sem.Assignment(dom)\n",
    "m.evaluate('all x.(boy(x) -> - girl(x))', g)"
   ]
  },
  {
   "cell_type": "code",
   "execution_count": 5,
   "metadata": {
    "scrolled": true
   },
   "outputs": [
    {
     "name": "stdout",
     "output_type": "stream",
     "text": [
      "\n",
      "'walk(adam)' evaluates to False under M, g\n"
     ]
    },
    {
     "data": {
      "text/plain": [
       "False"
      ]
     },
     "execution_count": 5,
     "metadata": {},
     "output_type": "execute_result"
    }
   ],
   "source": [
    " m.evaluate('walk(adam)', g, trace=2)"
   ]
  },
  {
   "cell_type": "code",
   "execution_count": 6,
   "metadata": {},
   "outputs": [
    {
     "name": "stdout",
     "output_type": "stream",
     "text": [
      "(S[SEM=<walk(mary)>]\n",
      "  (NP[-LOC, NUM='sg', SEM=<\\P.P(mary)>]\n",
      "    (PropN[-LOC, NUM='sg', SEM=<\\P.P(mary)>] Mary))\n",
      "  (VP[NUM='sg', SEM=<\\x.walk(x)>]\n",
      "    (IV[NUM='sg', SEM=<\\x.walk(x)>, TNS='pres'] walks)))\n"
     ]
    }
   ],
   "source": [
    "sents = ['Mary walks']\n",
    "results = nltk.sem.util.interpret_sents(sents, 'grammars/sample_grammars/sem2.fcfg')\n",
    "for result in results:\n",
    "    for (synrep, semrep) in result:\n",
    "        print(synrep)"
   ]
  },
  {
   "cell_type": "code",
   "execution_count": null,
   "metadata": {},
   "outputs": [],
   "source": []
  },
  {
   "cell_type": "code",
   "execution_count": null,
   "metadata": {},
   "outputs": [],
   "source": []
  }
 ],
 "metadata": {
  "kernelspec": {
   "display_name": "Python 3",
   "language": "python",
   "name": "python3"
  },
  "language_info": {
   "codemirror_mode": {
    "name": "ipython",
    "version": 3
   },
   "file_extension": ".py",
   "mimetype": "text/x-python",
   "name": "python",
   "nbconvert_exporter": "python",
   "pygments_lexer": "ipython3",
   "version": "3.6.5"
  }
 },
 "nbformat": 4,
 "nbformat_minor": 2
}
