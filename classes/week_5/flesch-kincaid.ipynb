{
 "cells": [
  {
   "cell_type": "markdown",
   "metadata": {},
   "source": [
    "Flesch-Kincaid Readbility implementation: https://en.wikipedia.org/wiki/Flesch–Kincaid_readability_tests\n",
    "\n",
    "An available package does this as well: https://pypi.org/project/spacy-readability/"
   ]
  },
  {
   "cell_type": "markdown",
   "metadata": {},
   "source": [
    "206.835 - 1.015(total words/total sentences) -84.6(total syllables/total words)"
   ]
  },
  {
   "cell_type": "code",
   "execution_count": null,
   "metadata": {},
   "outputs": [],
   "source": [
    "import spacy"
   ]
  },
  {
   "cell_type": "code",
   "execution_count": null,
   "metadata": {},
   "outputs": [],
   "source": [
    "nlp = spacy.load('en_core_web_sm')\n"
   ]
  },
  {
   "cell_type": "code",
   "execution_count": null,
   "metadata": {},
   "outputs": [],
   "source": [
    "corpus = [\"\"\"Yes. Governor, we've been hearing that the defense buildup that you would associate yourself with would cost tens of billions of dollars more than is now contemplated. In assuming that the American people are ready to bear this cost, they nevertheless keep asking the following question: How do you reconcile huge increases in military outlays with your promise of substantial tax cuts and of balancing the budget, which in this fiscal year, the one that just ended, ran more than $60 billion in the red?\"\"\",\n",
    "         \"\"\"We’re committing Twitter to help increase the collective health, openness, and civility of public conversation, and to hold ourselves publicly accountable towards progress.\"\"\",\n",
    "         \"\"\"I AM SAM. I AM SAM. SAM I AM.\n",
    "\n",
    "THAT SAM-I-AM! THAT SAM-I-AM! I DO NOT LIKE THAT SAM-I-AM!\n",
    "\n",
    "DO WOULD YOU LIKE GREEN EGGS AND HAM?\n",
    "\n",
    "I DO NOT LIKE THEM,SAM-I-AM.\n",
    "I DO NOT LIKE GREEN EGGS AND HAM.\n",
    "\n",
    "WOULD YOU LIKE THEM HERE OR THERE?\n",
    "\n",
    "I WOULD NOT LIKE THEM HERE OR THERE.\n",
    "I WOULD NOT LIKE THEM ANYWHERE.\n",
    "I DO NOT LIKE GREEN EGGS AND HAM.\n",
    "I DO NOT LIKE THEM, SAM-I-AM.\n",
    "\n",
    "WOULD YOU LIKE THEM IN A HOUSE?\n",
    "WOULD YOU LIKE THEN WITH A MOUSE?\n",
    "\n",
    "I DO NOT LIKE THEM IN A HOUSE.\n",
    "I DO NOT LIKE THEM WITH A MOUSE.\n",
    "I DO NOT LIKE THEM HERE OR THERE.\n",
    "I DO NOT LIKE THEM ANYWHERE.\n",
    "I DO NOT LIKE GREEN EGGS AND HAM.\n",
    "I DO NOT LIKE THEM, SAM-I-AM.\n",
    "\"\"\"]"
   ]
  },
  {
   "cell_type": "code",
   "execution_count": null,
   "metadata": {},
   "outputs": [],
   "source": [
    "doc = nlp(corpus[0])"
   ]
  },
  {
   "cell_type": "code",
   "execution_count": null,
   "metadata": {},
   "outputs": [],
   "source": [
    "print(doc)"
   ]
  },
  {
   "cell_type": "code",
   "execution_count": null,
   "metadata": {},
   "outputs": [],
   "source": [
    "print(len(list(doc.sents)))"
   ]
  },
  {
   "cell_type": "code",
   "execution_count": null,
   "metadata": {},
   "outputs": [],
   "source": [
    "print(len(doc))"
   ]
  },
  {
   "cell_type": "code",
   "execution_count": null,
   "metadata": {},
   "outputs": [],
   "source": [
    "import math\n",
    "def fk_readability(document_text):\n",
    "    doc = nlp(document_text)\n",
    "    num_sentences = len(list(doc.sents))\n",
    "    num_words = len(doc)\n",
    "    num_syllables = 0\n",
    "    for token in doc:\n",
    "        num_syllables += len(token)/3\n",
    "    return 206.835 - (1.015*(num_words/num_sentences)) - (84.6* (num_syllables/num_words))\n",
    "    "
   ]
  },
  {
   "cell_type": "code",
   "execution_count": null,
   "metadata": {},
   "outputs": [],
   "source": [
    "for document in corpus:\n",
    "    print(fk_readability(document))"
   ]
  },
  {
   "cell_type": "code",
   "execution_count": null,
   "metadata": {},
   "outputs": [],
   "source": []
  }
 ],
 "metadata": {
  "kernelspec": {
   "display_name": "Python 3",
   "language": "python",
   "name": "python3"
  },
  "language_info": {
   "codemirror_mode": {
    "name": "ipython",
    "version": 3
   },
   "file_extension": ".py",
   "mimetype": "text/x-python",
   "name": "python",
   "nbconvert_exporter": "python",
   "pygments_lexer": "ipython3",
   "version": "3.6.5"
  }
 },
 "nbformat": 4,
 "nbformat_minor": 2
}
