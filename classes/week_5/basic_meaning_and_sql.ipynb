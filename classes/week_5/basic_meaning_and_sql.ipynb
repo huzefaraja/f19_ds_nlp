{
 "cells": [
  {
   "cell_type": "markdown",
   "metadata": {},
   "source": [
    "Here is a basic attempt at parsing natural languages and extracting their meaning. Then we can query a knowledge base to get the answer. In this case, a sql file."
   ]
  },
  {
   "cell_type": "code",
   "execution_count": null,
   "metadata": {},
   "outputs": [],
   "source": [
    "from nltk.treeprettyprinter import TreePrettyPrinter\n",
    "from nltk import load_parser\n",
    "\n",
    "# loading a parser that can turn english into sql\n",
    "cp = load_parser('grammars/book_grammars/sql0.fcfg')\n",
    "\n",
    "# providing a query\n",
    "query = 'What cities are located in China'\n",
    "\n",
    "# looking at the parse trees\n",
    "trees = list(cp.parse(query.split()))\n",
    "trees[0].draw()\n",
    "# constructing the searh query\n",
    "answer = trees[0].label()['SEM']\n",
    "answer = [s for s in answer if s]\n",
    "q = ' '.join(answer)\n",
    "print(q)"
   ]
  },
  {
   "cell_type": "markdown",
   "metadata": {},
   "source": [
    "But how can we develop a parse like this?\n",
    "\n",
    "We end up using a feature grammar. This is just like the CFGs we've seen in the past, but now we can add features to control how things appear."
   ]
  },
  {
   "cell_type": "code",
   "execution_count": null,
   "metadata": {},
   "outputs": [],
   "source": [
    "import nltk\n",
    "nltk.data.show_cfg('grammars/book_grammars/sql0.fcfg')"
   ]
  },
  {
   "cell_type": "markdown",
   "metadata": {},
   "source": [
    "Now we can take our generated query and attempt to run it against a database."
   ]
  },
  {
   "cell_type": "code",
   "execution_count": null,
   "metadata": {},
   "outputs": [],
   "source": [
    "from nltk.sem import chat80\n",
    "print(q)\n",
    "rows = chat80.sql_query('corpora/city_database/city.db', q)\n",
    "for r in rows: \n",
    "    print(r[0], end=\" \")"
   ]
  },
  {
   "cell_type": "code",
   "execution_count": null,
   "metadata": {},
   "outputs": [],
   "source": []
  }
 ],
 "metadata": {
  "kernelspec": {
   "display_name": "Python 3",
   "language": "python",
   "name": "python3"
  },
  "language_info": {
   "codemirror_mode": {
    "name": "ipython",
    "version": 3
   },
   "file_extension": ".py",
   "mimetype": "text/x-python",
   "name": "python",
   "nbconvert_exporter": "python",
   "pygments_lexer": "ipython3",
   "version": "3.6.5"
  }
 },
 "nbformat": 4,
 "nbformat_minor": 2
}
