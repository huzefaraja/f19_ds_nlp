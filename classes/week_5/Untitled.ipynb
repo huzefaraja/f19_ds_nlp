{
 "cells": [
  {
   "cell_type": "code",
   "execution_count": 1,
   "metadata": {},
   "outputs": [],
   "source": [
    "text = \"\"\"\n",
    "WordNet superficially resembles a thesaurus, in that it groups words together based on their meanings. However, there are some important distinctions. First, WordNet interlinks not just word forms—strings of letters—but specific senses of words. As a result, words that are found in close proximity to one another in the network are semantically disambiguated. Second, WordNet labels the semantic relations among words, whereas the groupings of words in a thesaurus does not follow any explicit pattern other than meaning similarity.\n",
    "\n",
    "Structure\n",
    "\n",
    "The main relation among words in WordNet is synonymy, as between the words shut and close or car and automobile. Synonyms--words that denote the same concept and are interchangeable in many contexts--are grouped into unordered sets (synsets). Each of WordNet’s 117 000 synsets is linked to other synsets by means of a small number of “conceptual relations.” Additionally, a synset contains a brief definition (“gloss”) and, in most cases, one or more short sentences illustrating the use of the synset members. Word forms with several distinct meanings are represented in as many distinct synsets. Thus, each form-meaning pair in WordNet is unique.\n",
    "\n",
    "Relations\n",
    "\n",
    "The most frequently encoded relation among synsets is the super-subordinate relation (also called hyperonymy, hyponymy or ISA relation). It links more general synsets like {furniture, piece_of_furniture} to increasingly specific ones like {bed} and {bunkbed}. Thus, WordNet states that the category furniture includes bed, which in turn includes bunkbed; conversely, concepts like bed and bunkbed make up the category furniture. All noun hierarchies ultimately go up the root node {entity}. Hyponymy relation is transitive: if an armchair is a kind of chair, and if a chair is a kind of furniture, then an armchair is a kind of furniture. WordNet distinguishes among Types (common nouns) and Instances (specific persons, countries and geographic entities). Thus, armchair is a type of chair, Barack Obama is an instance of a president. Instances are always leaf (terminal) nodes in their hierarchies.\n",
    "\n",
    "Meronymy, the part-whole relation holds between synsets like {chair} and {back, backrest}, {seat} and {leg}. Parts are inherited from their superordinates: if a chair has legs, then an armchair has legs as well. Parts are not inherited “upward” as they may be characteristic only of specific kinds of things rather than the class as a whole: chairs and kinds of chairs have legs, but not all kinds of furniture have legs.\n",
    "\n",
    "Verb synsets are arranged into hierarchies as well; verbs towards the bottom of the trees (troponyms) express increasingly specific manners characterizing an event, as in {communicate}-{talk}-{whisper}. The specific manner expressed depends on the semantic field; volume (as in the example above) is just one dimension along which verbs can be elaborated. Others are speed (move-jog-run) or intensity of emotion (like-love-idolize). Verbs describing events that necessarily and unidirectionally entail one another are linked: {buy}-{pay}, {succeed}-{try}, {show}-{see}, etc.\n",
    "\"\"\""
   ]
  },
  {
   "cell_type": "code",
   "execution_count": 2,
   "metadata": {},
   "outputs": [],
   "source": [
    "import spacy\n",
    "nlp = spacy.load(\"en_core_web_sm\")"
   ]
  },
  {
   "cell_type": "code",
   "execution_count": 3,
   "metadata": {},
   "outputs": [],
   "source": [
    "model = nlp(text)"
   ]
  },
  {
   "cell_type": "code",
   "execution_count": 5,
   "metadata": {},
   "outputs": [
    {
     "name": "stdout",
     "output_type": "stream",
     "text": [
      "26\n"
     ]
    }
   ],
   "source": [
    "num_sentences = len(list(model.sents))\n",
    "print(num_sentences)"
   ]
  },
  {
   "cell_type": "code",
   "execution_count": 8,
   "metadata": {},
   "outputs": [
    {
     "name": "stdout",
     "output_type": "stream",
     "text": [
      "602\n"
     ]
    }
   ],
   "source": [
    "num_words = len(list(model))\n",
    "print(num_words)"
   ]
  },
  {
   "cell_type": "code",
   "execution_count": 10,
   "metadata": {},
   "outputs": [
    {
     "name": "stdout",
     "output_type": "stream",
     "text": [
      "[1, 7, 13, 9, 1, 9, 1, 2, 4, 2, 6, 5, 8, 5, 2, 5, 8, 1, 7, 1, 5, 3, 4, 9, 12, 1, 5, 1, 7, 10, 3, 4, 4, 5, 1, 7, 2, 7, 1, 3, 8, 6, 2, 5, 1, 2, 1, 6, 1, 5, 4, 3, 5, 2, 5, 9, 2, 3, 7, 2, 3, 7, 3, 12, 13, 1, 6, 1, 7, 6, 3, 8, 9, 5, 5, 1, 7, 3, 9, 2, 5, 2, 1, 9, 4, 3, 6, 3, 8, 7, 5, 4, 7, 10, 1, 2, 9, 2, 3, 4, 8, 5, 5, 2, 7, 2, 8, 1, 2, 7, 3, 5, 4, 3, 5, 2, 3, 3, 10, 1, 8, 2, 5, 4, 6, 3, 4, 7, 3, 3, 15, 2, 4, 8, 2, 3, 7, 4, 9, 4, 1, 7, 1, 1, 4, 2, 7, 2, 3, 3, 7, 2, 6, 2, 5, 7, 2, 5, 2, 1, 5, 6, 2, 1, 10, 9, 1, 1, 12, 1, 1, 6, 8, 1, 5, 10, 1, 1, 5, 1, 1, 3, 1, 2, 4, 5, 1, 3, 2, 4, 5, 9, 12, 3, 3, 2, 3, 6, 7, 1, 4, 5, 4, 7, 8, 8, 3, 11, 2, 2, 4, 8, 7, 1, 4, 1, 4, 4, 1, 7, 4, 2, 7, 2, 6, 1, 2, 9, 2, 3, 4, 10, 7, 8, 5, 7, 2, 3, 5, 1, 11, 8, 1, 4, 6, 10, 1, 8, 2, 3, 8, 1, 1, 2, 5, 4, 7, 7, 4, 1, 9, 1, 18, 1, 2, 12, 8, 4, 4, 1, 3, 1, 3, 1, 9, 4, 1, 7, 6, 4, 3, 8, 9, 8, 3, 1, 5, 2, 4, 8, 7, 1, 10, 1, 8, 4, 3, 3, 7, 4, 2, 3, 8, 9, 1, 3, 4, 11, 10, 2, 2, 3, 4, 4, 1, 8, 8, 8, 2, 10, 1, 2, 2, 8, 2, 1, 4, 2, 5, 1, 3, 2, 1, 5, 2, 1, 4, 2, 9, 1, 4, 2, 8, 2, 1, 4, 2, 9, 1, 7, 13, 5, 5, 1, 6, 5, 1, 3, 9, 1, 8, 7, 1, 9, 3, 10, 8, 1, 1, 4, 1, 8, 2, 1, 4, 2, 5, 1, 6, 5, 2, 2, 8, 2, 1, 9, 1, 9, 3, 6, 4, 1, 8, 1, 5, 2, 5, 11, 1, 2, 8, 1, 3, 4, 1, 5, 8, 5, 7, 7, 4, 1, 5, 1, 3, 1, 4, 1, 8, 1, 1, 1, 4, 1, 3, 1, 5, 5, 3, 9, 4, 5, 14, 1, 2, 1, 5, 3, 4, 1, 4, 2, 8, 3, 4, 2, 4, 1, 5, 3, 3, 9, 1, 6, 1, 2, 4, 3, 2, 14, 4, 2, 8, 5, 2, 6, 6, 4, 3, 5, 2, 1, 5, 1, 6, 3, 5, 2, 6, 4, 4, 1, 3, 3, 3, 5, 2, 9, 4, 4, 1, 2, 4, 7, 3, 8, 4, 11, 2, 4, 1, 5, 7, 3, 6, 2, 3, 5, 1, 9, 1, 7, 12, 8, 7, 14, 2, 5, 1, 2, 2, 1, 30, 3, 8, 6, 9, 7, 2, 3, 8, 5, 1, 6, 1, 2, 2, 3, 7, 5, 1, 2, 4, 3, 9, 5, 5, 5, 3, 2, 10, 1, 6, 3, 5, 1, 4, 1, 3, 1, 3, 1, 2, 9, 2, 7, 1, 4, 1, 4, 1, 7, 1, 1, 5, 10, 6, 4, 11, 3, 16, 6, 3, 7, 3, 6, 1, 1, 9, 1, 1, 1, 13, 1, 1, 1, 10, 1, 1, 3, 1, 1]\n"
     ]
    }
   ],
   "source": [
    "word_lengths = [len(word.text) for word in model]\n",
    "print(word_lengths)"
   ]
  },
  {
   "cell_type": "code",
   "execution_count": 12,
   "metadata": {},
   "outputs": [
    {
     "name": "stdout",
     "output_type": "stream",
     "text": [
      "2649\n"
     ]
    }
   ],
   "source": [
    "total_lengths = sum(word_lengths)\n",
    "print(total_lengths)"
   ]
  },
  {
   "cell_type": "code",
   "execution_count": null,
   "metadata": {},
   "outputs": [],
   "source": []
  },
  {
   "cell_type": "code",
   "execution_count": null,
   "metadata": {},
   "outputs": [],
   "source": []
  },
  {
   "cell_type": "code",
   "execution_count": null,
   "metadata": {},
   "outputs": [],
   "source": []
  },
  {
   "cell_type": "code",
   "execution_count": 13,
   "metadata": {},
   "outputs": [],
   "source": [
    "total_syllables = total_lengths/3"
   ]
  },
  {
   "cell_type": "code",
   "execution_count": null,
   "metadata": {},
   "outputs": [],
   "source": []
  },
  {
   "cell_type": "code",
   "execution_count": null,
   "metadata": {},
   "outputs": [],
   "source": []
  },
  {
   "cell_type": "code",
   "execution_count": null,
   "metadata": {},
   "outputs": [],
   "source": []
  },
  {
   "cell_type": "code",
   "execution_count": null,
   "metadata": {},
   "outputs": [],
   "source": []
  },
  {
   "cell_type": "code",
   "execution_count": 14,
   "metadata": {},
   "outputs": [],
   "source": [
    "formula = 206.835 - (1.015 * (num_words/num_sentences)) - (84.6 * (total_syllables/num_words))"
   ]
  },
  {
   "cell_type": "code",
   "execution_count": 15,
   "metadata": {},
   "outputs": [
    {
     "name": "stdout",
     "output_type": "stream",
     "text": [
      "59.24447738308206\n"
     ]
    }
   ],
   "source": [
    "print(formula)"
   ]
  },
  {
   "cell_type": "code",
   "execution_count": null,
   "metadata": {},
   "outputs": [],
   "source": []
  }
 ],
 "metadata": {
  "kernelspec": {
   "display_name": "Python 3",
   "language": "python",
   "name": "python3"
  },
  "language_info": {
   "codemirror_mode": {
    "name": "ipython",
    "version": 3
   },
   "file_extension": ".py",
   "mimetype": "text/x-python",
   "name": "python",
   "nbconvert_exporter": "python",
   "pygments_lexer": "ipython3",
   "version": "3.6.5"
  }
 },
 "nbformat": 4,
 "nbformat_minor": 2
}
