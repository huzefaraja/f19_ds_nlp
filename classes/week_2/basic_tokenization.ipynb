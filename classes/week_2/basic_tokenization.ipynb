{
 "cells": [
  {
   "cell_type": "code",
   "execution_count": 4,
   "metadata": {},
   "outputs": [
    {
     "name": "stderr",
     "output_type": "stream",
     "text": [
      "[nltk_data] Downloading package punkt to\n",
      "[nltk_data]     C:\\Users\\huzef\\AppData\\Roaming\\nltk_data...\n",
      "[nltk_data]   Unzipping tokenizers\\punkt.zip.\n"
     ]
    },
    {
     "data": {
      "text/plain": [
       "True"
      ]
     },
     "execution_count": 4,
     "metadata": {},
     "output_type": "execute_result"
    }
   ],
   "source": [
    "import nltk\n",
    "nltk.download('punkt')"
   ]
  },
  {
   "cell_type": "code",
   "execution_count": 1,
   "metadata": {},
   "outputs": [
    {
     "data": {
      "text/plain": [
       "['This', 'is', 'a', 'test', 'sentence.']"
      ]
     },
     "execution_count": 1,
     "metadata": {},
     "output_type": "execute_result"
    }
   ],
   "source": [
    "input = \"This is a test sentence.\"\n",
    "input.split(\" \")"
   ]
  },
  {
   "cell_type": "code",
   "execution_count": 2,
   "metadata": {},
   "outputs": [
    {
     "data": {
      "text/plain": [
       "['John', 'Smith,', 'M.D.', 'is', 'a', 'neurologist', 'at', 'a', 'place.']"
      ]
     },
     "execution_count": 2,
     "metadata": {},
     "output_type": "execute_result"
    }
   ],
   "source": [
    "input = \"John Smith, M.D. is a neurologist at a place.\"\n",
    "input.split(\" \")"
   ]
  },
  {
   "cell_type": "code",
   "execution_count": 5,
   "metadata": {},
   "outputs": [
    {
     "name": "stdout",
     "output_type": "stream",
     "text": [
      "['John', 'Smith', ',', 'M.D', '.', 'is', 'a', 'neurologist', 'at', 'a', 'place', '.']\n"
     ]
    }
   ],
   "source": [
    "from nltk.tokenize import word_tokenize\n",
    "output = word_tokenize(input)\n",
    "print(output)"
   ]
  },
  {
   "cell_type": "code",
   "execution_count": 6,
   "metadata": {},
   "outputs": [
    {
     "data": {
      "text/plain": [
       "['John',\n",
       " 'Smith',\n",
       " ',',\n",
       " 'M.D.',\n",
       " 'is',\n",
       " 'a',\n",
       " 'neurologist',\n",
       " 'at',\n",
       " 'a',\n",
       " 'place',\n",
       " '.']"
      ]
     },
     "execution_count": 6,
     "metadata": {},
     "output_type": "execute_result"
    }
   ],
   "source": [
    "from nltk.tokenize import TreebankWordTokenizer\n",
    "treebank_tokenizer = TreebankWordTokenizer()\n",
    "treebank_tokenizer.tokenize(input)"
   ]
  },
  {
   "cell_type": "code",
   "execution_count": 10,
   "metadata": {},
   "outputs": [
    {
     "name": "stdout",
     "output_type": "stream",
     "text": [
      "Smoke filled the air as multiple fire departments battled a grass fire Monday north of Henry.\n",
      "\n",
      "A large amount of smoke was reported at about 3:35 p.m., about six miles north of Henry, Morrill Fire Chief Matt Hinman said.\n",
      "\n",
      "Firefighters from Mitchell, Morrill, Lyman, Torrington, Scottsbluff Rural, Scottsbluff and Gering were called out to respond to the fire. Firefighters from Yoder and Lingle, Wyoming, fire departments, as well as Hot Springs, South Dakota, have also been called to assist. Hinman estimated 50 to 60 firefighters have responded to battle the fire.\n",
      "\n",
      "“Right now, a wild estimate would be 200-300 acres,” are burning, Hinman said at about 6 p.m., “\n",
      "\n",
      "One firefighter, Mike Kindred, of Lyman Volunteer Fire, said he had been on the front lines and called the fire “pretty rugged.” He said it is smokey and firefighters can’t see much and are battling the fire on rough, sandy terrain.\n",
      "\n",
      "The goal, Hinman said, is to “hold the fire lines, hope the winds die down and have the fire contained by dark.”\n",
      "\n",
      "Winds were averaging around 30 miles per hour.\n"
     ]
    }
   ],
   "source": [
    "dir_base = \"./\"\n",
    "newswire = open(dir_base + \"data/newswire.txt\", encoding='utf-8').read()\n",
    "print(newswire)"
   ]
  },
  {
   "cell_type": "code",
   "execution_count": 11,
   "metadata": {},
   "outputs": [
    {
     "name": "stdout",
     "output_type": "stream",
     "text": [
      "['Smoke', 'filled', 'the', 'air', 'as', 'multiple', 'fire', 'departments', 'battled', 'a', 'grass', 'fire', 'Monday', 'north', 'of', 'Henry', '.', 'A', 'large', 'amount', 'of', 'smoke', 'was', 'reported', 'at', 'about', '3:35', 'p.m.', ',', 'about', 'six', 'miles', 'north', 'of', 'Henry', ',', 'Morrill', 'Fire', 'Chief', 'Matt', 'Hinman', 'said', '.', 'Firefighters', 'from', 'Mitchell', ',', 'Morrill', ',', 'Lyman', ',', 'Torrington', ',', 'Scottsbluff', 'Rural', ',', 'Scottsbluff', 'and', 'Gering', 'were', 'called', 'out', 'to', 'respond', 'to', 'the', 'fire', '.', 'Firefighters', 'from', 'Yoder', 'and', 'Lingle', ',', 'Wyoming', ',', 'fire', 'departments', ',', 'as', 'well', 'as', 'Hot', 'Springs', ',', 'South', 'Dakota', ',', 'have', 'also', 'been', 'called', 'to', 'assist', '.', 'Hinman', 'estimated', '50', 'to', '60', 'firefighters', 'have', 'responded', 'to', 'battle', 'the', 'fire', '.', '“', 'Right', 'now', ',', 'a', 'wild', 'estimate', 'would', 'be', '200-300', 'acres', ',', '”', 'are', 'burning', ',', 'Hinman', 'said', 'at', 'about', '6', 'p.m.', ',', '“', 'One', 'firefighter', ',', 'Mike', 'Kindred', ',', 'of', 'Lyman', 'Volunteer', 'Fire', ',', 'said', 'he', 'had', 'been', 'on', 'the', 'front', 'lines', 'and', 'called', 'the', 'fire', '“', 'pretty', 'rugged.', '”', 'He', 'said', 'it', 'is', 'smokey', 'and', 'firefighters', 'can', '’', 't', 'see', 'much', 'and', 'are', 'battling', 'the', 'fire', 'on', 'rough', ',', 'sandy', 'terrain', '.', 'The', 'goal', ',', 'Hinman', 'said', ',', 'is', 'to', '“', 'hold', 'the', 'fire', 'lines', ',', 'hope', 'the', 'winds', 'die', 'down', 'and', 'have', 'the', 'fire', 'contained', 'by', 'dark.', '”', 'Winds', 'were', 'averaging', 'around', '30', 'miles', 'per', 'hour', '.']\n"
     ]
    }
   ],
   "source": [
    "newswire_tokens = word_tokenize(newswire)\n",
    "print(newswire_tokens)"
   ]
  },
  {
   "cell_type": "code",
   "execution_count": 12,
   "metadata": {},
   "outputs": [
    {
     "name": "stdout",
     "output_type": "stream",
     "text": [
      "['Smoke filled the air as multiple fire departments battled a grass fire Monday north of Henry.', 'A large amount of smoke was reported at about 3:35 p.m., about six miles north of Henry, Morrill Fire Chief Matt Hinman said.', 'Firefighters from Mitchell, Morrill, Lyman, Torrington, Scottsbluff Rural, Scottsbluff and Gering were called out to respond to the fire.', 'Firefighters from Yoder and Lingle, Wyoming, fire departments, as well as Hot Springs, South Dakota, have also been called to assist.', 'Hinman estimated 50 to 60 firefighters have responded to battle the fire.', '“Right now, a wild estimate would be 200-300 acres,” are burning, Hinman said at about 6 p.m., “\\n\\nOne firefighter, Mike Kindred, of Lyman Volunteer Fire, said he had been on the front lines and called the fire “pretty rugged.” He said it is smokey and firefighters can’t see much and are battling the fire on rough, sandy terrain.', 'The goal, Hinman said, is to “hold the fire lines, hope the winds die down and have the fire contained by dark.”\\n\\nWinds were averaging around 30 miles per hour.']\n"
     ]
    }
   ],
   "source": [
    "import nltk.data\n",
    "sentence_tokenizer = nltk.data.load('tokenizers/punkt/english.pickle')\n",
    "punkt_sentences = sentence_tokenizer.tokenize(newswire)\n",
    "print(punkt_sentences)"
   ]
  },
  {
   "cell_type": "code",
   "execution_count": 13,
   "metadata": {},
   "outputs": [
    {
     "name": "stdout",
     "output_type": "stream",
     "text": [
      "[['Smoke', 'filled', 'the', 'air', 'as', 'multiple', 'fire', 'departments', 'battled', 'a', 'grass', 'fire', 'Monday', 'north', 'of', 'Henry', '.'], ['A', 'large', 'amount', 'of', 'smoke', 'was', 'reported', 'at', 'about', '3:35', 'p.m.', ',', 'about', 'six', 'miles', 'north', 'of', 'Henry', ',', 'Morrill', 'Fire', 'Chief', 'Matt', 'Hinman', 'said', '.'], ['Firefighters', 'from', 'Mitchell', ',', 'Morrill', ',', 'Lyman', ',', 'Torrington', ',', 'Scottsbluff', 'Rural', ',', 'Scottsbluff', 'and', 'Gering', 'were', 'called', 'out', 'to', 'respond', 'to', 'the', 'fire', '.'], ['Firefighters', 'from', 'Yoder', 'and', 'Lingle', ',', 'Wyoming', ',', 'fire', 'departments', ',', 'as', 'well', 'as', 'Hot', 'Springs', ',', 'South', 'Dakota', ',', 'have', 'also', 'been', 'called', 'to', 'assist', '.'], ['Hinman', 'estimated', '50', 'to', '60', 'firefighters', 'have', 'responded', 'to', 'battle', 'the', 'fire', '.'], ['“', 'Right', 'now', ',', 'a', 'wild', 'estimate', 'would', 'be', '200-300', 'acres', ',', '”', 'are', 'burning', ',', 'Hinman', 'said', 'at', 'about', '6', 'p.m.', ',', '“', 'One', 'firefighter', ',', 'Mike', 'Kindred', ',', 'of', 'Lyman', 'Volunteer', 'Fire', ',', 'said', 'he', 'had', 'been', 'on', 'the', 'front', 'lines', 'and', 'called', 'the', 'fire', '“', 'pretty', 'rugged.', '”', 'He', 'said', 'it', 'is', 'smokey', 'and', 'firefighters', 'can', '’', 't', 'see', 'much', 'and', 'are', 'battling', 'the', 'fire', 'on', 'rough', ',', 'sandy', 'terrain', '.'], ['The', 'goal', ',', 'Hinman', 'said', ',', 'is', 'to', '“', 'hold', 'the', 'fire', 'lines', ',', 'hope', 'the', 'winds', 'die', 'down', 'and', 'have', 'the', 'fire', 'contained', 'by', 'dark.', '”', 'Winds', 'were', 'averaging', 'around', '30', 'miles', 'per', 'hour', '.']]\n"
     ]
    }
   ],
   "source": [
    "sentences_words = [treebank_tokenizer.tokenize(sentence) for sentence in punkt_sentences]\n",
    "print(sentences_words)"
   ]
  },
  {
   "cell_type": "code",
   "execution_count": 14,
   "metadata": {
    "scrolled": false
   },
   "outputs": [
    {
     "name": "stdout",
     "output_type": "stream",
     "text": [
      "To Mrs. Saville, England.\n",
      "\n",
      "Archangel, 28th March, 17—.\n",
      "\n",
      "How slowly the time passes here, encompassed as I am by frost and snow! Yet a second step is taken towards my enterprise. I have hired a vessel and am occupied in collecting my sailors; those whom I have already engaged appear to be men on whom I can depend and are certainly possessed of dauntless courage.\n",
      "\n",
      "But I have one want which I have never yet been able to satisfy, and the absence of the object of which I now feel as a most severe evil, I have no friend, Margaret: when I am glowing with the enthusiasm of success, there will be none to participate my joy; if I am assailed by disappointment, no one will endeavour to sustain me in dejection. I shall commit my thoughts to paper, it is true; but that is a poor medium for the communication of feeling. I desire the company of a man who could sympathise with me, whose eyes would reply to mine. You may deem me romantic, my dear sister, but I bitterly feel the want of a friend. I have no one near me, gentle yet courageous, possessed of a cultivated as well as of a capacious mind, whose tastes are like my own, to approve or amend my plans. How would such a friend repair the faults of your poor brother! I am too ardent in execution and too impatient of difficulties. But it is a still greater evil to me that I am self-educated: for the first fourteen years of my life I ran wild on a common and read nothing but our Uncle Thomas’ books of voyages. At that age I became acquainted with the celebrated poets of our own country; but it was only when it had ceased to be in my power to derive its most important benefits from such a conviction that I perceived the necessity of becoming acquainted with more languages than that of my native country. Now I am twenty-eight and am in reality more illiterate than many schoolboys of fifteen. It is true that I have thought more and that my daydreams are more extended and magnificent, but they want (as the painters call it) keeping; and I greatly need a friend who would have sense enough not to despise me as romantic, and affection enough for me to endeavour to regulate my mind.\n",
      "\n",
      "Well, these are useless complaints; I shall certainly find no friend on the wide ocean, nor even here in Archangel, among merchants and seamen. Yet some feelings, unallied to the dross of human nature, beat even in these rugged bosoms. My lieutenant, for instance, is a man of wonderful courage and enterprise; he is madly desirous of glory, or rather, to word my phrase more characteristically, of advancement in his profession. He is an Englishman, and in the midst of national and professional prejudices, unsoftened by cultivation, retains some of the noblest endowments of humanity. I first became acquainted with him on board a whale vessel; finding that he was unemployed in this city, I easily engaged him to assist in my enterprise.\n",
      "\n",
      "The master is a person of an excellent disposition and is remarkable in the ship for his gentleness and the mildness of his discipline. This circumstance, added to his well-known integrity and dauntless courage, made me very desirous to engage him. A youth passed in solitude, my best years spent under your gentle and feminine fosterage, has so refined the groundwork of my character that I cannot overcome an intense distaste to the usual brutality exercised on board ship: I have never believed it to be necessary, and when I heard of a mariner equally noted for his kindliness of heart and the respect and obedience paid to him by his crew, I felt myself peculiarly fortunate in being able to secure his services. I heard of him first in rather a romantic manner, from a lady who owes to him the happiness of her life. This, briefly, is his story. Some years ago he loved a young Russian lady of moderate fortune, and having amassed a considerable sum in prize-money, the father of the girl consented to the match. He saw his mistress once before the destined ceremony; but she was bathed in tears, and throwing herself at his feet, entreated him to spare her, confessing at the same time that she loved another, but that he was poor, and that her father would never consent to the union. My generous friend reassured the suppliant, and on being informed of the name of her lover, instantly abandoned his pursuit. He had already bought a farm with his money, on which he had designed to pass the remainder of his life; but he bestowed the whole on his rival, together with the remains of his prize-money to purchase stock, and then himself solicited the young woman’s father to consent to her marriage with her lover. But the old man decidedly refused, thinking himself bound in honour to my friend, who, when he found the father inexorable, quitted his country, nor returned until he heard that his former mistress was married according to her inclinations. “What a noble fellow!” you will exclaim. He is so; but then he is wholly uneducated: he is as silent as a Turk, and a kind of ignorant carelessness attends him, which, while it renders his conduct the more astonishing, detracts from the interest and sympathy which otherwise he would command.\n",
      "\n",
      "Yet do not suppose, because I complain a little or because I can conceive a consolation for my toils which I may never know, that I am wavering in my resolutions. Those are as fixed as fate, and my voyage is only now delayed until the weather shall permit my embarkation. The winter has been dreadfully severe, but the spring promises well, and it is considered as a remarkably early season, so that perhaps I may sail sooner than I expected. I shall do nothing rashly: you know me sufficiently to confide in my prudence and considerateness whenever the safety of others is committed to my care.\n",
      "\n",
      "I cannot describe to you my sensations on the near prospect of my undertaking. It is impossible to communicate to you a conception of the trembling sensation, half pleasurable and half fearful, with which I am preparing to depart. I am going to unexplored regions, to “the land of mist and snow,” but I shall kill no albatross; therefore do not be alarmed for my safety or if I should come back to you as worn and woeful as the “Ancient Mariner.” You will smile at my allusion, but I will disclose a secret. I have often attributed my attachment to, my passionate enthusiasm for, the dangerous mysteries of ocean to that production of the most imaginative of modern poets. There is something at work in my soul which I do not understand. I am practically industrious—painstaking, a workman to execute with perseverance and labour—but besides this there is a love for the marvellous, a belief in the marvellous, intertwined in all my projects, which hurries me out of the common pathways of men, even to the wild sea and unvisited regions I am about to explore.\n",
      "\n",
      "But to return to dearer considerations. Shall I meet you again, after having traversed immense seas, and returned by the most southern cape of Africa or America? I dare not expect such success, yet I cannot bear to look on the reverse of the picture. Continue for the present to write to me by every opportunity: I may receive your letters on some occasions when I need them most to support my spirits. I love you very tenderly. Remember me with affection, should you never hear from me again.\n",
      "\n",
      "Your affectionate brother,\n",
      "Robert Walton\n",
      "\n",
      "\n",
      "['To Mrs. Saville, England.', 'Archangel, 28th March, 17—.', 'How slowly the time passes here, encompassed as I am by frost and snow!', 'Yet a second step is taken towards my enterprise.', 'I have hired a vessel and am occupied in collecting my sailors; those whom I have already engaged appear to be men on whom I can depend and are certainly possessed of dauntless courage.', 'But I have one want which I have never yet been able to satisfy, and the absence of the object of which I now feel as a most severe evil, I have no friend, Margaret: when I am glowing with the enthusiasm of success, there will be none to participate my joy; if I am assailed by disappointment, no one will endeavour to sustain me in dejection.', 'I shall commit my thoughts to paper, it is true; but that is a poor medium for the communication of feeling.', 'I desire the company of a man who could sympathise with me, whose eyes would reply to mine.', 'You may deem me romantic, my dear sister, but I bitterly feel the want of a friend.', 'I have no one near me, gentle yet courageous, possessed of a cultivated as well as of a capacious mind, whose tastes are like my own, to approve or amend my plans.', 'How would such a friend repair the faults of your poor brother!', 'I am too ardent in execution and too impatient of difficulties.', 'But it is a still greater evil to me that I am self-educated: for the first fourteen years of my life I ran wild on a common and read nothing but our Uncle Thomas’ books of voyages.', 'At that age I became acquainted with the celebrated poets of our own country; but it was only when it had ceased to be in my power to derive its most important benefits from such a conviction that I perceived the necessity of becoming acquainted with more languages than that of my native country.', 'Now I am twenty-eight and am in reality more illiterate than many schoolboys of fifteen.', 'It is true that I have thought more and that my daydreams are more extended and magnificent, but they want (as the painters call it) keeping; and I greatly need a friend who would have sense enough not to despise me as romantic, and affection enough for me to endeavour to regulate my mind.', 'Well, these are useless complaints; I shall certainly find no friend on the wide ocean, nor even here in Archangel, among merchants and seamen.', 'Yet some feelings, unallied to the dross of human nature, beat even in these rugged bosoms.', 'My lieutenant, for instance, is a man of wonderful courage and enterprise; he is madly desirous of glory, or rather, to word my phrase more characteristically, of advancement in his profession.', 'He is an Englishman, and in the midst of national and professional prejudices, unsoftened by cultivation, retains some of the noblest endowments of humanity.', 'I first became acquainted with him on board a whale vessel; finding that he was unemployed in this city, I easily engaged him to assist in my enterprise.', 'The master is a person of an excellent disposition and is remarkable in the ship for his gentleness and the mildness of his discipline.', 'This circumstance, added to his well-known integrity and dauntless courage, made me very desirous to engage him.', 'A youth passed in solitude, my best years spent under your gentle and feminine fosterage, has so refined the groundwork of my character that I cannot overcome an intense distaste to the usual brutality exercised on board ship: I have never believed it to be necessary, and when I heard of a mariner equally noted for his kindliness of heart and the respect and obedience paid to him by his crew, I felt myself peculiarly fortunate in being able to secure his services.', 'I heard of him first in rather a romantic manner, from a lady who owes to him the happiness of her life.', 'This, briefly, is his story.', 'Some years ago he loved a young Russian lady of moderate fortune, and having amassed a considerable sum in prize-money, the father of the girl consented to the match.', 'He saw his mistress once before the destined ceremony; but she was bathed in tears, and throwing herself at his feet, entreated him to spare her, confessing at the same time that she loved another, but that he was poor, and that her father would never consent to the union.', 'My generous friend reassured the suppliant, and on being informed of the name of her lover, instantly abandoned his pursuit.', 'He had already bought a farm with his money, on which he had designed to pass the remainder of his life; but he bestowed the whole on his rival, together with the remains of his prize-money to purchase stock, and then himself solicited the young woman’s father to consent to her marriage with her lover.', 'But the old man decidedly refused, thinking himself bound in honour to my friend, who, when he found the father inexorable, quitted his country, nor returned until he heard that his former mistress was married according to her inclinations.', '“What a noble fellow!” you will exclaim.', 'He is so; but then he is wholly uneducated: he is as silent as a Turk, and a kind of ignorant carelessness attends him, which, while it renders his conduct the more astonishing, detracts from the interest and sympathy which otherwise he would command.', 'Yet do not suppose, because I complain a little or because I can conceive a consolation for my toils which I may never know, that I am wavering in my resolutions.', 'Those are as fixed as fate, and my voyage is only now delayed until the weather shall permit my embarkation.', 'The winter has been dreadfully severe, but the spring promises well, and it is considered as a remarkably early season, so that perhaps I may sail sooner than I expected.', 'I shall do nothing rashly: you know me sufficiently to confide in my prudence and considerateness whenever the safety of others is committed to my care.', 'I cannot describe to you my sensations on the near prospect of my undertaking.', 'It is impossible to communicate to you a conception of the trembling sensation, half pleasurable and half fearful, with which I am preparing to depart.', 'I am going to unexplored regions, to “the land of mist and snow,” but I shall kill no albatross; therefore do not be alarmed for my safety or if I should come back to you as worn and woeful as the “Ancient Mariner.” You will smile at my allusion, but I will disclose a secret.', 'I have often attributed my attachment to, my passionate enthusiasm for, the dangerous mysteries of ocean to that production of the most imaginative of modern poets.', 'There is something at work in my soul which I do not understand.', 'I am practically industrious—painstaking, a workman to execute with perseverance and labour—but besides this there is a love for the marvellous, a belief in the marvellous, intertwined in all my projects, which hurries me out of the common pathways of men, even to the wild sea and unvisited regions I am about to explore.', 'But to return to dearer considerations.', 'Shall I meet you again, after having traversed immense seas, and returned by the most southern cape of Africa or America?', 'I dare not expect such success, yet I cannot bear to look on the reverse of the picture.', 'Continue for the present to write to me by every opportunity: I may receive your letters on some occasions when I need them most to support my spirits.', 'I love you very tenderly.', 'Remember me with affection, should you never hear from me again.', 'Your affectionate brother,\\nRobert Walton']\n",
      "[['To', 'Mrs.', 'Saville', ',', 'England', '.'], ['Archangel', ',', '28th', 'March', ',', '17—', '.'], ['How', 'slowly', 'the', 'time', 'passes', 'here', ',', 'encompassed', 'as', 'I', 'am', 'by', 'frost', 'and', 'snow', '!'], ['Yet', 'a', 'second', 'step', 'is', 'taken', 'towards', 'my', 'enterprise', '.'], ['I', 'have', 'hired', 'a', 'vessel', 'and', 'am', 'occupied', 'in', 'collecting', 'my', 'sailors', ';', 'those', 'whom', 'I', 'have', 'already', 'engaged', 'appear', 'to', 'be', 'men', 'on', 'whom', 'I', 'can', 'depend', 'and', 'are', 'certainly', 'possessed', 'of', 'dauntless', 'courage', '.'], ['But', 'I', 'have', 'one', 'want', 'which', 'I', 'have', 'never', 'yet', 'been', 'able', 'to', 'satisfy', ',', 'and', 'the', 'absence', 'of', 'the', 'object', 'of', 'which', 'I', 'now', 'feel', 'as', 'a', 'most', 'severe', 'evil', ',', 'I', 'have', 'no', 'friend', ',', 'Margaret', ':', 'when', 'I', 'am', 'glowing', 'with', 'the', 'enthusiasm', 'of', 'success', ',', 'there', 'will', 'be', 'none', 'to', 'participate', 'my', 'joy', ';', 'if', 'I', 'am', 'assailed', 'by', 'disappointment', ',', 'no', 'one', 'will', 'endeavour', 'to', 'sustain', 'me', 'in', 'dejection', '.'], ['I', 'shall', 'commit', 'my', 'thoughts', 'to', 'paper', ',', 'it', 'is', 'true', ';', 'but', 'that', 'is', 'a', 'poor', 'medium', 'for', 'the', 'communication', 'of', 'feeling', '.'], ['I', 'desire', 'the', 'company', 'of', 'a', 'man', 'who', 'could', 'sympathise', 'with', 'me', ',', 'whose', 'eyes', 'would', 'reply', 'to', 'mine', '.'], ['You', 'may', 'deem', 'me', 'romantic', ',', 'my', 'dear', 'sister', ',', 'but', 'I', 'bitterly', 'feel', 'the', 'want', 'of', 'a', 'friend', '.'], ['I', 'have', 'no', 'one', 'near', 'me', ',', 'gentle', 'yet', 'courageous', ',', 'possessed', 'of', 'a', 'cultivated', 'as', 'well', 'as', 'of', 'a', 'capacious', 'mind', ',', 'whose', 'tastes', 'are', 'like', 'my', 'own', ',', 'to', 'approve', 'or', 'amend', 'my', 'plans', '.'], ['How', 'would', 'such', 'a', 'friend', 'repair', 'the', 'faults', 'of', 'your', 'poor', 'brother', '!'], ['I', 'am', 'too', 'ardent', 'in', 'execution', 'and', 'too', 'impatient', 'of', 'difficulties', '.'], ['But', 'it', 'is', 'a', 'still', 'greater', 'evil', 'to', 'me', 'that', 'I', 'am', 'self-educated', ':', 'for', 'the', 'first', 'fourteen', 'years', 'of', 'my', 'life', 'I', 'ran', 'wild', 'on', 'a', 'common', 'and', 'read', 'nothing', 'but', 'our', 'Uncle', 'Thomas', '’', 'books', 'of', 'voyages', '.'], ['At', 'that', 'age', 'I', 'became', 'acquainted', 'with', 'the', 'celebrated', 'poets', 'of', 'our', 'own', 'country', ';', 'but', 'it', 'was', 'only', 'when', 'it', 'had', 'ceased', 'to', 'be', 'in', 'my', 'power', 'to', 'derive', 'its', 'most', 'important', 'benefits', 'from', 'such', 'a', 'conviction', 'that', 'I', 'perceived', 'the', 'necessity', 'of', 'becoming', 'acquainted', 'with', 'more', 'languages', 'than', 'that', 'of', 'my', 'native', 'country', '.'], ['Now', 'I', 'am', 'twenty-eight', 'and', 'am', 'in', 'reality', 'more', 'illiterate', 'than', 'many', 'schoolboys', 'of', 'fifteen', '.'], ['It', 'is', 'true', 'that', 'I', 'have', 'thought', 'more', 'and', 'that', 'my', 'daydreams', 'are', 'more', 'extended', 'and', 'magnificent', ',', 'but', 'they', 'want', '(', 'as', 'the', 'painters', 'call', 'it', ')', 'keeping', ';', 'and', 'I', 'greatly', 'need', 'a', 'friend', 'who', 'would', 'have', 'sense', 'enough', 'not', 'to', 'despise', 'me', 'as', 'romantic', ',', 'and', 'affection', 'enough', 'for', 'me', 'to', 'endeavour', 'to', 'regulate', 'my', 'mind', '.'], ['Well', ',', 'these', 'are', 'useless', 'complaints', ';', 'I', 'shall', 'certainly', 'find', 'no', 'friend', 'on', 'the', 'wide', 'ocean', ',', 'nor', 'even', 'here', 'in', 'Archangel', ',', 'among', 'merchants', 'and', 'seamen', '.'], ['Yet', 'some', 'feelings', ',', 'unallied', 'to', 'the', 'dross', 'of', 'human', 'nature', ',', 'beat', 'even', 'in', 'these', 'rugged', 'bosoms', '.'], ['My', 'lieutenant', ',', 'for', 'instance', ',', 'is', 'a', 'man', 'of', 'wonderful', 'courage', 'and', 'enterprise', ';', 'he', 'is', 'madly', 'desirous', 'of', 'glory', ',', 'or', 'rather', ',', 'to', 'word', 'my', 'phrase', 'more', 'characteristically', ',', 'of', 'advancement', 'in', 'his', 'profession', '.'], ['He', 'is', 'an', 'Englishman', ',', 'and', 'in', 'the', 'midst', 'of', 'national', 'and', 'professional', 'prejudices', ',', 'unsoftened', 'by', 'cultivation', ',', 'retains', 'some', 'of', 'the', 'noblest', 'endowments', 'of', 'humanity', '.'], ['I', 'first', 'became', 'acquainted', 'with', 'him', 'on', 'board', 'a', 'whale', 'vessel', ';', 'finding', 'that', 'he', 'was', 'unemployed', 'in', 'this', 'city', ',', 'I', 'easily', 'engaged', 'him', 'to', 'assist', 'in', 'my', 'enterprise', '.'], ['The', 'master', 'is', 'a', 'person', 'of', 'an', 'excellent', 'disposition', 'and', 'is', 'remarkable', 'in', 'the', 'ship', 'for', 'his', 'gentleness', 'and', 'the', 'mildness', 'of', 'his', 'discipline', '.'], ['This', 'circumstance', ',', 'added', 'to', 'his', 'well-known', 'integrity', 'and', 'dauntless', 'courage', ',', 'made', 'me', 'very', 'desirous', 'to', 'engage', 'him', '.'], ['A', 'youth', 'passed', 'in', 'solitude', ',', 'my', 'best', 'years', 'spent', 'under', 'your', 'gentle', 'and', 'feminine', 'fosterage', ',', 'has', 'so', 'refined', 'the', 'groundwork', 'of', 'my', 'character', 'that', 'I', 'can', 'not', 'overcome', 'an', 'intense', 'distaste', 'to', 'the', 'usual', 'brutality', 'exercised', 'on', 'board', 'ship', ':', 'I', 'have', 'never', 'believed', 'it', 'to', 'be', 'necessary', ',', 'and', 'when', 'I', 'heard', 'of', 'a', 'mariner', 'equally', 'noted', 'for', 'his', 'kindliness', 'of', 'heart', 'and', 'the', 'respect', 'and', 'obedience', 'paid', 'to', 'him', 'by', 'his', 'crew', ',', 'I', 'felt', 'myself', 'peculiarly', 'fortunate', 'in', 'being', 'able', 'to', 'secure', 'his', 'services', '.'], ['I', 'heard', 'of', 'him', 'first', 'in', 'rather', 'a', 'romantic', 'manner', ',', 'from', 'a', 'lady', 'who', 'owes', 'to', 'him', 'the', 'happiness', 'of', 'her', 'life', '.'], ['This', ',', 'briefly', ',', 'is', 'his', 'story', '.'], ['Some', 'years', 'ago', 'he', 'loved', 'a', 'young', 'Russian', 'lady', 'of', 'moderate', 'fortune', ',', 'and', 'having', 'amassed', 'a', 'considerable', 'sum', 'in', 'prize-money', ',', 'the', 'father', 'of', 'the', 'girl', 'consented', 'to', 'the', 'match', '.'], ['He', 'saw', 'his', 'mistress', 'once', 'before', 'the', 'destined', 'ceremony', ';', 'but', 'she', 'was', 'bathed', 'in', 'tears', ',', 'and', 'throwing', 'herself', 'at', 'his', 'feet', ',', 'entreated', 'him', 'to', 'spare', 'her', ',', 'confessing', 'at', 'the', 'same', 'time', 'that', 'she', 'loved', 'another', ',', 'but', 'that', 'he', 'was', 'poor', ',', 'and', 'that', 'her', 'father', 'would', 'never', 'consent', 'to', 'the', 'union', '.'], ['My', 'generous', 'friend', 'reassured', 'the', 'suppliant', ',', 'and', 'on', 'being', 'informed', 'of', 'the', 'name', 'of', 'her', 'lover', ',', 'instantly', 'abandoned', 'his', 'pursuit', '.'], ['He', 'had', 'already', 'bought', 'a', 'farm', 'with', 'his', 'money', ',', 'on', 'which', 'he', 'had', 'designed', 'to', 'pass', 'the', 'remainder', 'of', 'his', 'life', ';', 'but', 'he', 'bestowed', 'the', 'whole', 'on', 'his', 'rival', ',', 'together', 'with', 'the', 'remains', 'of', 'his', 'prize-money', 'to', 'purchase', 'stock', ',', 'and', 'then', 'himself', 'solicited', 'the', 'young', 'woman', '’', 's', 'father', 'to', 'consent', 'to', 'her', 'marriage', 'with', 'her', 'lover', '.'], ['But', 'the', 'old', 'man', 'decidedly', 'refused', ',', 'thinking', 'himself', 'bound', 'in', 'honour', 'to', 'my', 'friend', ',', 'who', ',', 'when', 'he', 'found', 'the', 'father', 'inexorable', ',', 'quitted', 'his', 'country', ',', 'nor', 'returned', 'until', 'he', 'heard', 'that', 'his', 'former', 'mistress', 'was', 'married', 'according', 'to', 'her', 'inclinations', '.'], ['“', 'What', 'a', 'noble', 'fellow', '!', '”', 'you', 'will', 'exclaim', '.'], ['He', 'is', 'so', ';', 'but', 'then', 'he', 'is', 'wholly', 'uneducated', ':', 'he', 'is', 'as', 'silent', 'as', 'a', 'Turk', ',', 'and', 'a', 'kind', 'of', 'ignorant', 'carelessness', 'attends', 'him', ',', 'which', ',', 'while', 'it', 'renders', 'his', 'conduct', 'the', 'more', 'astonishing', ',', 'detracts', 'from', 'the', 'interest', 'and', 'sympathy', 'which', 'otherwise', 'he', 'would', 'command', '.'], ['Yet', 'do', 'not', 'suppose', ',', 'because', 'I', 'complain', 'a', 'little', 'or', 'because', 'I', 'can', 'conceive', 'a', 'consolation', 'for', 'my', 'toils', 'which', 'I', 'may', 'never', 'know', ',', 'that', 'I', 'am', 'wavering', 'in', 'my', 'resolutions', '.'], ['Those', 'are', 'as', 'fixed', 'as', 'fate', ',', 'and', 'my', 'voyage', 'is', 'only', 'now', 'delayed', 'until', 'the', 'weather', 'shall', 'permit', 'my', 'embarkation', '.'], ['The', 'winter', 'has', 'been', 'dreadfully', 'severe', ',', 'but', 'the', 'spring', 'promises', 'well', ',', 'and', 'it', 'is', 'considered', 'as', 'a', 'remarkably', 'early', 'season', ',', 'so', 'that', 'perhaps', 'I', 'may', 'sail', 'sooner', 'than', 'I', 'expected', '.'], ['I', 'shall', 'do', 'nothing', 'rashly', ':', 'you', 'know', 'me', 'sufficiently', 'to', 'confide', 'in', 'my', 'prudence', 'and', 'considerateness', 'whenever', 'the', 'safety', 'of', 'others', 'is', 'committed', 'to', 'my', 'care', '.'], ['I', 'can', 'not', 'describe', 'to', 'you', 'my', 'sensations', 'on', 'the', 'near', 'prospect', 'of', 'my', 'undertaking', '.'], ['It', 'is', 'impossible', 'to', 'communicate', 'to', 'you', 'a', 'conception', 'of', 'the', 'trembling', 'sensation', ',', 'half', 'pleasurable', 'and', 'half', 'fearful', ',', 'with', 'which', 'I', 'am', 'preparing', 'to', 'depart', '.'], ['I', 'am', 'going', 'to', 'unexplored', 'regions', ',', 'to', '“', 'the', 'land', 'of', 'mist', 'and', 'snow', ',', '”', 'but', 'I', 'shall', 'kill', 'no', 'albatross', ';', 'therefore', 'do', 'not', 'be', 'alarmed', 'for', 'my', 'safety', 'or', 'if', 'I', 'should', 'come', 'back', 'to', 'you', 'as', 'worn', 'and', 'woeful', 'as', 'the', '“', 'Ancient', 'Mariner.', '”', 'You', 'will', 'smile', 'at', 'my', 'allusion', ',', 'but', 'I', 'will', 'disclose', 'a', 'secret', '.'], ['I', 'have', 'often', 'attributed', 'my', 'attachment', 'to', ',', 'my', 'passionate', 'enthusiasm', 'for', ',', 'the', 'dangerous', 'mysteries', 'of', 'ocean', 'to', 'that', 'production', 'of', 'the', 'most', 'imaginative', 'of', 'modern', 'poets', '.'], ['There', 'is', 'something', 'at', 'work', 'in', 'my', 'soul', 'which', 'I', 'do', 'not', 'understand', '.'], ['I', 'am', 'practically', 'industrious—painstaking', ',', 'a', 'workman', 'to', 'execute', 'with', 'perseverance', 'and', 'labour—but', 'besides', 'this', 'there', 'is', 'a', 'love', 'for', 'the', 'marvellous', ',', 'a', 'belief', 'in', 'the', 'marvellous', ',', 'intertwined', 'in', 'all', 'my', 'projects', ',', 'which', 'hurries', 'me', 'out', 'of', 'the', 'common', 'pathways', 'of', 'men', ',', 'even', 'to', 'the', 'wild', 'sea', 'and', 'unvisited', 'regions', 'I', 'am', 'about', 'to', 'explore', '.'], ['But', 'to', 'return', 'to', 'dearer', 'considerations', '.'], ['Shall', 'I', 'meet', 'you', 'again', ',', 'after', 'having', 'traversed', 'immense', 'seas', ',', 'and', 'returned', 'by', 'the', 'most', 'southern', 'cape', 'of', 'Africa', 'or', 'America', '?'], ['I', 'dare', 'not', 'expect', 'such', 'success', ',', 'yet', 'I', 'can', 'not', 'bear', 'to', 'look', 'on', 'the', 'reverse', 'of', 'the', 'picture', '.'], ['Continue', 'for', 'the', 'present', 'to', 'write', 'to', 'me', 'by', 'every', 'opportunity', ':', 'I', 'may', 'receive', 'your', 'letters', 'on', 'some', 'occasions', 'when', 'I', 'need', 'them', 'most', 'to', 'support', 'my', 'spirits', '.'], ['I', 'love', 'you', 'very', 'tenderly', '.'], ['Remember', 'me', 'with', 'affection', ',', 'should', 'you', 'never', 'hear', 'from', 'me', 'again', '.'], ['Your', 'affectionate', 'brother', ',', 'Robert', 'Walton']]\n"
     ]
    }
   ],
   "source": [
    "def read_file_and_tokenize(filename):\n",
    "    input_file = open(dir_base + \"data/\" + filename , encoding='utf-8').read()\n",
    "    print(input_file)\n",
    "    punkt_sentences = sentence_tokenizer.tokenize(input_file)\n",
    "    print(punkt_sentences)\n",
    "    sentences_words = [treebank_tokenizer.tokenize(sentence) for sentence in punkt_sentences]\n",
    "    return sentences_words\n",
    "\n",
    "doc_words = read_file_and_tokenize(\"frankenstein.txt\")\n",
    "print(doc_words)"
   ]
  },
  {
   "cell_type": "code",
   "execution_count": 15,
   "metadata": {},
   "outputs": [
    {
     "name": "stdout",
     "output_type": "stream",
     "text": [
      "Today the #NASDAQ bell rang “Tronc, Tronc!” #transformation\n",
      "['Today the #NASDAQ bell rang “Tronc, Tronc!” #transformation']\n",
      "[['Today', 'the', '#', 'NASDAQ', 'bell', 'rang', '“', 'Tronc', ',', 'Tronc', '!', '”', '#', 'transformation']]\n"
     ]
    }
   ],
   "source": [
    "doc_words = read_file_and_tokenize(\"nasdaq_tweet.txt\")\n",
    "print(doc_words)"
   ]
  },
  {
   "cell_type": "code",
   "execution_count": 16,
   "metadata": {},
   "outputs": [
    {
     "name": "stdout",
     "output_type": "stream",
     "text": [
      "Obs Time: 2018-09-06T14:02:00Z\n",
      "Cloud Cover: BKN\n",
      "Cloud Top: 34\n",
      "Cloud Base: 18\n",
      "Flight level: 000\n",
      "PIREP: ATL UA /OV ATL/TM 1402/FLDURC/TP B737/SK BASES BKN 018 TOPS 034 CLR ABOVE\n",
      "['Obs Time: 2018-09-06T14:02:00Z\\nCloud Cover: BKN\\nCloud Top: 34\\nCloud Base: 18\\nFlight level: 000\\nPIREP: ATL UA /OV ATL/TM 1402/FLDURC/TP B737/SK BASES BKN 018 TOPS 034 CLR ABOVE']\n",
      "[['Obs', 'Time', ':', '2018-09-06T14:02:00Z', 'Cloud', 'Cover', ':', 'BKN', 'Cloud', 'Top', ':', '34', 'Cloud', 'Base', ':', '18', 'Flight', 'level', ':', '000', 'PIREP', ':', 'ATL', 'UA', '/OV', 'ATL/TM', '1402/FLDURC/TP', 'B737/SK', 'BASES', 'BKN', '018', 'TOPS', '034', 'CLR', 'ABOVE']]\n"
     ]
    }
   ],
   "source": [
    "doc_words = read_file_and_tokenize(\"pirep.txt\")\n",
    "print(doc_words)"
   ]
  },
  {
   "cell_type": "code",
   "execution_count": 17,
   "metadata": {},
   "outputs": [
    {
     "name": "stdout",
     "output_type": "stream",
     "text": [
      "Disappointed #Miami looked they hadn’t even thought about improving on the offensive side of the ball.   Same feast or famine play calling. Losing is one thing, losing like that? And the kicking game, and the...  well, you get the point. Good for Coach O. Congrats to #LSU.\n",
      "['Disappointed #Miami looked they hadn’t even thought about improving on the offensive side of the ball.', 'Same feast or famine play calling.', 'Losing is one thing, losing like that?', 'And the kicking game, and the...  well, you get the point.', 'Good for Coach O. Congrats to #LSU.']\n",
      "[['Disappointed', '#', 'Miami', 'looked', 'they', 'hadn', '’', 't', 'even', 'thought', 'about', 'improving', 'on', 'the', 'offensive', 'side', 'of', 'the', 'ball', '.'], ['Same', 'feast', 'or', 'famine', 'play', 'calling', '.'], ['Losing', 'is', 'one', 'thing', ',', 'losing', 'like', 'that', '?'], ['And', 'the', 'kicking', 'game', ',', 'and', 'the', '...', 'well', ',', 'you', 'get', 'the', 'point', '.'], ['Good', 'for', 'Coach', 'O.', 'Congrats', 'to', '#', 'LSU', '.']]\n"
     ]
    }
   ],
   "source": [
    "doc_words = read_file_and_tokenize(\"chuck_todd_tweet.txt\")\n",
    "print(doc_words)"
   ]
  },
  {
   "cell_type": "code",
   "execution_count": 18,
   "metadata": {},
   "outputs": [
    {
     "name": "stdout",
     "output_type": "stream",
     "text": [
      "Disappointed #Miami looked they hadn’t even thought about improving on the offensive side of the ball.   Same feast or famine play calling. Losing is one thing, losing like that? And the kicking game, and the...  well, you get the point. Good for Coach O. Congrats to #LSU.\n",
      "['Disappointed', '#Miami', 'looked', 'they', 'hadn', '’', 't', 'even', 'thought', 'about', 'improving', 'on', 'the', 'offensive', 'side', 'of', 'the', 'ball', '.', 'Same', 'feast', 'or', 'famine', 'play', 'calling', '.', 'Losing', 'is', 'one', 'thing', ',', 'losing', 'like', 'that', '?', 'And', 'the', 'kicking', 'game', ',', 'and', 'the', '...', 'well', ',', 'you', 'get', 'the', 'point', '.', 'Good', 'for', 'Coach', 'O', '.', 'Congrats', 'to', '#LSU', '.']\n"
     ]
    }
   ],
   "source": [
    "from nltk.tokenize import TweetTokenizer\n",
    "tweet_tokenizer = TweetTokenizer()\n",
    "\n",
    "def read_tweet_and_tokenize(filename):\n",
    "    input_file = open(dir_base + \"data/\" + filename , encoding='utf-8').read()\n",
    "    print(input_file)\n",
    "    tweet_words = tweet_tokenizer.tokenize(input_file)\n",
    "    return tweet_words\n",
    "\n",
    "tweet_words = read_tweet_and_tokenize(\"chuck_todd_tweet.txt\")\n",
    "print(tweet_words)"
   ]
  },
  {
   "cell_type": "code",
   "execution_count": null,
   "metadata": {},
   "outputs": [],
   "source": []
  }
 ],
 "metadata": {
  "kernelspec": {
   "display_name": "Python 3",
   "language": "python",
   "name": "python3"
  },
  "language_info": {
   "codemirror_mode": {
    "name": "ipython",
    "version": 3
   },
   "file_extension": ".py",
   "mimetype": "text/x-python",
   "name": "python",
   "nbconvert_exporter": "python",
   "pygments_lexer": "ipython3",
   "version": "3.7.4"
  }
 },
 "nbformat": 4,
 "nbformat_minor": 2
}
