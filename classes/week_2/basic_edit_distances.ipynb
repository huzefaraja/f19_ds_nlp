{
 "cells": [
  {
   "cell_type": "code",
   "execution_count": 2,
   "metadata": {},
   "outputs": [
    {
     "name": "stdout",
     "output_type": "stream",
     "text": [
      "1\n",
      "6\n"
     ]
    }
   ],
   "source": [
    "from nltk.metrics import *\n",
    "print(edit_distance(\"rain\", \"rayn\"))\n",
    "print(edit_distance(\"rain\", \"cricket\"))"
   ]
  },
  {
   "cell_type": "code",
   "execution_count": 3,
   "metadata": {},
   "outputs": [
    {
     "name": "stdout",
     "output_type": "stream",
     "text": [
      "[['Smoke', 'filled', 'the', 'air', 'as', 'multiple', 'fire', 'departments', 'battled', 'a', 'grass', 'fire', 'Monday', 'north', 'of', 'Henry', '.'], ['A', 'large', 'amount', 'of', 'smoke', 'was', 'reported', 'at', 'about', '3:35', 'p.m.', ',', 'about', 'six', 'miles', 'north', 'of', 'Henry', ',', 'Morrill', 'Fire', 'Chief', 'Matt', 'Hinman', 'said', '.'], ['Firefighters', 'from', 'Mitchell', ',', 'Morrill', ',', 'Lyman', ',', 'Torrington', ',', 'Scottsbluff', 'Rural', ',', 'Scottsbluff', 'and', 'Gering', 'were', 'called', 'out', 'to', 'respond', 'to', 'the', 'fire', '.'], ['Firefighters', 'from', 'Yoder', 'and', 'Lingle', ',', 'Wyoming', ',', 'fire', 'departments', ',', 'as', 'well', 'as', 'Hot', 'Springs', ',', 'South', 'Dakota', ',', 'have', 'also', 'been', 'called', 'to', 'assist', '.'], ['Hinman', 'estimated', '50', 'to', '60', 'firefighters', 'have', 'responded', 'to', 'battle', 'the', 'fire', '.'], ['“', 'Right', 'now', ',', 'a', 'wild', 'estimate', 'would', 'be', '200-300', 'acres', ',', '”', 'are', 'burning', ',', 'Hinman', 'said', 'at', 'about', '6', 'p.m.', ',', '“', 'One', 'firefighter', ',', 'Mike', 'Kindred', ',', 'of', 'Lyman', 'Volunteer', 'Fire', ',', 'said', 'he', 'had', 'been', 'on', 'the', 'front', 'lines', 'and', 'called', 'the', 'fire', '“', 'pretty', 'rugged.', '”', 'He', 'said', 'it', 'is', 'smokey', 'and', 'firefighters', 'can', '’', 't', 'see', 'much', 'and', 'are', 'battling', 'the', 'fire', 'on', 'rough', ',', 'sandy', 'terrain', '.'], ['The', 'goal', ',', 'Hingman', 'said', ',', 'is', 'to', '“', 'hold', 'the', 'fire', 'lines', ',', 'hope', 'the', 'winds', 'die', 'down', 'and', 'have', 'the', 'fire', 'contained', 'by', 'dark.', '”', 'Winds', 'were', 'averaging', 'around', '30', 'miles', 'per', 'hour', '.']]\n"
     ]
    }
   ],
   "source": [
    "import nltk.data\n",
    "from nltk.tokenize import TreebankWordTokenizer\n",
    "sentence_tokenizer = nltk.data.load('tokenizers/punkt/english.pickle')\n",
    "treebank_tokenizer = TreebankWordTokenizer()\n",
    "\n",
    "dir_base = \"./\"\n",
    "\n",
    "def read_file_and_tokenize(filename):\n",
    "    input_file = open(dir_base + \"data/\" + filename , encoding='utf-8').read()\n",
    "    punkt_sentences = sentence_tokenizer.tokenize(input_file)\n",
    "    sentences_words = [treebank_tokenizer.tokenize(sentence) for sentence in punkt_sentences]\n",
    "    return sentences_words\n",
    "\n",
    "error_newswire = read_file_and_tokenize(\"newswire_error.txt\")\n",
    "print(error_newswire)"
   ]
  },
  {
   "cell_type": "code",
   "execution_count": 4,
   "metadata": {},
   "outputs": [
    {
     "name": "stdout",
     "output_type": "stream",
     "text": [
      "['Hinman', 'Hinman', 'Hinman', 'Hingman']\n"
     ]
    }
   ],
   "source": [
    "target_word = \"Hinman\"\n",
    "possible_misspellings = [word for sentence in error_newswire for word in sentence if edit_distance(word, target_word) < 2]\n",
    "print(possible_misspellings)"
   ]
  },
  {
   "cell_type": "code",
   "execution_count": null,
   "metadata": {},
   "outputs": [],
   "source": []
  }
 ],
 "metadata": {
  "kernelspec": {
   "display_name": "Python 3",
   "language": "python",
   "name": "python3"
  },
  "language_info": {
   "codemirror_mode": {
    "name": "ipython",
    "version": 3
   },
   "file_extension": ".py",
   "mimetype": "text/x-python",
   "name": "python",
   "nbconvert_exporter": "python",
   "pygments_lexer": "ipython3",
   "version": "3.7.4"
  }
 },
 "nbformat": 4,
 "nbformat_minor": 2
}
