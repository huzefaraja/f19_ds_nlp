{
 "cells": [
  {
   "cell_type": "code",
   "execution_count": 5,
   "metadata": {},
   "outputs": [
    {
     "name": "stderr",
     "output_type": "stream",
     "text": [
      "[nltk_data] Downloading package wordnet to\n",
      "[nltk_data]     C:\\Users\\huzef\\AppData\\Roaming\\nltk_data...\n",
      "[nltk_data]   Unzipping corpora\\wordnet.zip.\n"
     ]
    },
    {
     "data": {
      "text/plain": [
       "True"
      ]
     },
     "execution_count": 5,
     "metadata": {},
     "output_type": "execute_result"
    }
   ],
   "source": [
    "import nltk\n",
    "nltk.download('wordnet')"
   ]
  },
  {
   "cell_type": "code",
   "execution_count": 1,
   "metadata": {},
   "outputs": [
    {
     "name": "stdout",
     "output_type": "stream",
     "text": [
      "[\"aren't\", 'goal', 'fashion', 'fashion', 'die', 'oxen', 'deer', 'tradit', 'affect']\n"
     ]
    }
   ],
   "source": [
    "from nltk.stem.porter import *\n",
    "porter_stemmer = PorterStemmer()\n",
    "\n",
    "sample_words = [\"aren't\", \"goals\", \"fashions\", \"fashionable\", \"dies\", \"oxen\", \"deer\", \"traditional\", \"affected\"]\n",
    "stemmed_words = [porter_stemmer.stem(word) for word in sample_words]\n",
    "print(stemmed_words)"
   ]
  },
  {
   "cell_type": "code",
   "execution_count": 11,
   "metadata": {},
   "outputs": [
    {
     "name": "stdout",
     "output_type": "stream",
     "text": [
      "[\"aren't\", 'goal', 'fashion', 'fashion', 'die', 'oxen', 'deer', 'tradit', 'affect', 'nation', 'nation', 'ration']\n"
     ]
    }
   ],
   "source": [
    "from nltk.stem.porter import *\n",
    "porter_stemmer = PorterStemmer()\n",
    "\n",
    "sample_words = [\"aren't\", \"goals\", \"fashions\", \"fashionable\", \"dies\", \"oxen\", \"deer\", \"traditional\", \"affected\", \"national\", \"nationals\", \"rational\"]\n",
    "stemmed_words = [porter_stemmer.stem(word) for word in sample_words]\n",
    "print(stemmed_words)"
   ]
  },
  {
   "cell_type": "code",
   "execution_count": 19,
   "metadata": {},
   "outputs": [
    {
     "name": "stdout",
     "output_type": "stream",
     "text": [
      "[\"aren't\", 'goal', 'fashion', 'fashionable', 'dy', 'ox', 'deer', 'die', 'dye', 'try', 'traditional', 'traditionalism', 'affected', 'rational', 'national', 'national']\n"
     ]
    }
   ],
   "source": [
    "from nltk.stem import WordNetLemmatizer\n",
    "wordnet_lemmatizer = WordNetLemmatizer()\n",
    "sample_words = [\"aren't\", \"goals\", \"fashions\", \"fashionable\", \"dies\", \"oxen\", \"deer\", \"die\", \"dye\", \"tries\", \"traditional\", \"traditionalism\", \"affected\", \"rational\", \"national\",  \"national\"]\n",
    "lemmatized_words = [wordnet_lemmatizer.lemmatize(word) for word in sample_words]\n",
    "print(lemmatized_words)"
   ]
  },
  {
   "cell_type": "code",
   "execution_count": 7,
   "metadata": {},
   "outputs": [
    {
     "name": "stdout",
     "output_type": "stream",
     "text": [
      "be\n"
     ]
    }
   ],
   "source": [
    "print(wordnet_lemmatizer.lemmatize(\"is\", pos='v'))"
   ]
  },
  {
   "cell_type": "code",
   "execution_count": 14,
   "metadata": {},
   "outputs": [
    {
     "name": "stdout",
     "output_type": "stream",
     "text": [
      "['john', 'is', 'sing', 'in', 'the', 'rain']\n",
      "['John', 'is', 'singing', 'in', 'the', 'rain']\n"
     ]
    }
   ],
   "source": [
    "sample_words = \"John is singing in the rain\".split(\" \")\n",
    "stemmed_words = [porter_stemmer.stem(word) for word in sample_words]\n",
    "print(stemmed_words)\n",
    "lemmatized_words = [wordnet_lemmatizer.lemmatize(word) for word in sample_words]\n",
    "print(lemmatized_words)"
   ]
  },
  {
   "cell_type": "code",
   "execution_count": 15,
   "metadata": {},
   "outputs": [
    {
     "name": "stdout",
     "output_type": "stream",
     "text": [
      "['john', 'sang', 'in', 'the', 'rain']\n",
      "['John', 'sang', 'in', 'the', 'rain']\n"
     ]
    }
   ],
   "source": [
    "sample_words = \"John sang in the rain\".split(\" \")\n",
    "stemmed_words = [porter_stemmer.stem(word) for word in sample_words]\n",
    "print(stemmed_words)\n",
    "lemmatized_words = [wordnet_lemmatizer.lemmatize(word) for word in sample_words]\n",
    "print(lemmatized_words)"
   ]
  },
  {
   "cell_type": "code",
   "execution_count": 22,
   "metadata": {},
   "outputs": [
    {
     "name": "stdout",
     "output_type": "stream",
     "text": [
      "lie\n"
     ]
    }
   ],
   "source": [
    "print(wordnet_lemmatizer.lemmatize(\"lies\", pos='n'))"
   ]
  },
  {
   "cell_type": "code",
   "execution_count": null,
   "metadata": {},
   "outputs": [],
   "source": []
  }
 ],
 "metadata": {
  "kernelspec": {
   "display_name": "Python 3",
   "language": "python",
   "name": "python3"
  },
  "language_info": {
   "codemirror_mode": {
    "name": "ipython",
    "version": 3
   },
   "file_extension": ".py",
   "mimetype": "text/x-python",
   "name": "python",
   "nbconvert_exporter": "python",
   "pygments_lexer": "ipython3",
   "version": "3.7.4"
  }
 },
 "nbformat": 4,
 "nbformat_minor": 2
}
