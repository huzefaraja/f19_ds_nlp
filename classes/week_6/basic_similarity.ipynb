{
 "cells": [
  {
   "cell_type": "markdown",
   "metadata": {},
   "source": [
    "Jaccard Similarity - A simple way to evaluate strings for how similar they are.\n"
   ]
  },
  {
   "cell_type": "code",
   "execution_count": null,
   "metadata": {},
   "outputs": [],
   "source": [
    "# Calculating the Jaccard is pretty straightforward.\n",
    "# setting u pthe methods to do so can be helpful as sometimes you might need custom similarity metrics\n",
    "# here we are simply looking at the similarity of two string measured by the overlap of individual tokens.\n",
    "\n",
    "str1 = \"George Jones is a noted musician\"\n",
    "str2 = \"The bluegrass of George Jones is good\"\n",
    "\n",
    "a = set(str1.split()) \n",
    "b = set(str2.split())\n",
    "c = a.intersection(b)\n",
    "\n",
    "print(c)"
   ]
  },
  {
   "cell_type": "code",
   "execution_count": null,
   "metadata": {},
   "outputs": [],
   "source": [
    "# calculating the Jaccard Similiarity then is simply dividing the length of the intersection \n",
    "# by the size of the two sets. Notice the divisor is aimed at getting the union of the vocabulary. \n",
    "# Set operations in Python could do this more clearly.\n",
    "jaccard = float(len(c)) / (len(a) + len(b) - len(c))\n",
    "print(jaccard)"
   ]
  },
  {
   "cell_type": "markdown",
   "metadata": {},
   "source": [
    "Cosine Similarity -\n",
    "Another method of similarity evaluation but attempts to look at the angle relative to two vectors across all dimensions."
   ]
  },
  {
   "cell_type": "code",
   "execution_count": null,
   "metadata": {},
   "outputs": [],
   "source": [
    "import numpy\n",
    "a = [1,1,1,1,1,1,0,0,0,0]\n",
    "b = [1,1,1,0,0,0,1,1,1,1]\n",
    "dot_product = numpy.dot(a, b)\n",
    "norm_a = numpy.linalg.norm(a)\n",
    "norm_b = numpy.linalg.norm(b)\n",
    "cosine_similarity = dot_product / (norm_a * norm_b)\n",
    "\n",
    "print(cosine_similarity)\n",
    "\n"
   ]
  },
  {
   "cell_type": "code",
   "execution_count": null,
   "metadata": {},
   "outputs": [],
   "source": []
  }
 ],
 "metadata": {
  "kernelspec": {
   "display_name": "Python 3",
   "language": "python",
   "name": "python3"
  },
  "language_info": {
   "codemirror_mode": {
    "name": "ipython",
    "version": 3
   },
   "file_extension": ".py",
   "mimetype": "text/x-python",
   "name": "python",
   "nbconvert_exporter": "python",
   "pygments_lexer": "ipython3",
   "version": "3.6.5"
  }
 },
 "nbformat": 4,
 "nbformat_minor": 2
}
