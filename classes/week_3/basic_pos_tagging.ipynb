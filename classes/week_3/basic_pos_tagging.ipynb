{
 "cells": [
  {
   "cell_type": "markdown",
   "metadata": {},
   "source": [
    "# Basic Part of Speech Tagging"
   ]
  },
  {
   "cell_type": "markdown",
   "metadata": {},
   "source": [
    "Imaging that we have a token stream and we are interesting in learning more about the structure of the sentece. For example, assume that we want to identify the various parts of speech in a sentece."
   ]
  },
  {
   "cell_type": "code",
   "execution_count": 2,
   "metadata": {},
   "outputs": [
    {
     "name": "stdout",
     "output_type": "stream",
     "text": [
      "['Specifically', ',', 'we', 'reviewed', 'the', 'AN/ASQ‑235', 'Airborne', 'Mine', 'Neutralization', 'System', '(', 'AMNS', ')', ',', 'Airborne', 'Laser', 'Mine', 'Detection', 'System', '(', 'ALMDS', ')', ',', 'and', 'Coastal', 'Battlefield', 'Reconnaissance', 'and', 'Analysis', '(', 'COBRA', ')', 'Block', 'I', 'systems', '.']\n",
      "[('Specifically', 'RB'), (',', ','), ('we', 'PRP'), ('reviewed', 'VBD'), ('the', 'DT'), ('AN/ASQ‑235', 'NNP'), ('Airborne', 'NNP'), ('Mine', 'NNP'), ('Neutralization', 'NNP'), ('System', 'NNP'), ('(', '('), ('AMNS', 'NNP'), (')', ')'), (',', ','), ('Airborne', 'NNP'), ('Laser', 'NNP'), ('Mine', 'NNP'), ('Detection', 'NNP'), ('System', 'NNP'), ('(', '('), ('ALMDS', 'NNP'), (')', ')'), (',', ','), ('and', 'CC'), ('Coastal', 'NNP'), ('Battlefield', 'NNP'), ('Reconnaissance', 'NNP'), ('and', 'CC'), ('Analysis', 'NNP'), ('(', '('), ('COBRA', 'NNP'), (')', ')'), ('Block', 'NNP'), ('I', 'PRP'), ('systems', 'NNS'), ('.', '.')]\n"
     ]
    }
   ],
   "source": [
    "import nltk\n",
    "from nltk.tokenize import TreebankWordTokenizer\n",
    "treebank_tokenizer = TreebankWordTokenizer()\n",
    "\n",
    "input = \"Specifically, we reviewed the AN/ASQ‑235 Airborne Mine Neutralization System (AMNS), Airborne Laser Mine Detection System (ALMDS), and Coastal Battlefield Reconnaissance and Analysis (COBRA) Block I systems.\"\n",
    "tokens = treebank_tokenizer.tokenize(input)\n",
    "print(tokens)\n",
    "\n",
    "pos_tags = nltk.pos_tag(tokens)\n",
    "print(pos_tags)"
   ]
  },
  {
   "cell_type": "markdown",
   "metadata": {},
   "source": [
    "Is this useful? Can we do anything with the actual tags?"
   ]
  },
  {
   "cell_type": "code",
   "execution_count": 3,
   "metadata": {},
   "outputs": [
    {
     "name": "stdout",
     "output_type": "stream",
     "text": [
      "('Specifically', 'RB')\n",
      "(',', ',')\n",
      "('we', 'PRP')\n",
      "('reviewed', 'VBD')\n",
      "('the', 'DT')\n",
      "('AN/ASQ‑235', 'NNP')\n",
      "('Airborne', 'NNP')\n",
      "('Mine', 'NNP')\n",
      "('Neutralization', 'NNP')\n",
      "('System', 'NNP')\n",
      "('(', '(')\n",
      "('AMNS', 'NNP')\n",
      "(')', ')')\n",
      "(',', ',')\n",
      "('Airborne', 'NNP')\n",
      "('Laser', 'NNP')\n",
      "('Mine', 'NNP')\n",
      "('Detection', 'NNP')\n",
      "('System', 'NNP')\n",
      "('(', '(')\n",
      "('ALMDS', 'NNP')\n",
      "(')', ')')\n",
      "(',', ',')\n",
      "('and', 'CC')\n",
      "('Coastal', 'NNP')\n",
      "('Battlefield', 'NNP')\n",
      "('Reconnaissance', 'NNP')\n",
      "('and', 'CC')\n",
      "('Analysis', 'NNP')\n",
      "('(', '(')\n",
      "('COBRA', 'NNP')\n",
      "(')', ')')\n",
      "('Block', 'NNP')\n",
      "('I', 'PRP')\n",
      "('systems', 'NNS')\n",
      "('.', '.')\n"
     ]
    }
   ],
   "source": [
    "for pos_token in pos_tags:\n",
    "    print(pos_token)"
   ]
  },
  {
   "cell_type": "code",
   "execution_count": 4,
   "metadata": {},
   "outputs": [
    {
     "name": "stdout",
     "output_type": "stream",
     "text": [
      "Specifically -- RB\n",
      ", -- ,\n",
      "we -- PRP\n",
      "reviewed -- VBD\n",
      "the -- DT\n",
      "AN/ASQ‑235 -- NNP\n",
      "Airborne -- NNP\n",
      "Mine -- NNP\n",
      "Neutralization -- NNP\n",
      "System -- NNP\n",
      "( -- (\n",
      "AMNS -- NNP\n",
      ") -- )\n",
      ", -- ,\n",
      "Airborne -- NNP\n",
      "Laser -- NNP\n",
      "Mine -- NNP\n",
      "Detection -- NNP\n",
      "System -- NNP\n",
      "( -- (\n",
      "ALMDS -- NNP\n",
      ") -- )\n",
      ", -- ,\n",
      "and -- CC\n",
      "Coastal -- NNP\n",
      "Battlefield -- NNP\n",
      "Reconnaissance -- NNP\n",
      "and -- CC\n",
      "Analysis -- NNP\n",
      "( -- (\n",
      "COBRA -- NNP\n",
      ") -- )\n",
      "Block -- NNP\n",
      "I -- PRP\n",
      "systems -- NNS\n",
      ". -- .\n"
     ]
    }
   ],
   "source": [
    "for pos_token in pos_tags:\n",
    "    print(pos_token[0] + \" -- \" + pos_token[1])"
   ]
  },
  {
   "cell_type": "code",
   "execution_count": 5,
   "metadata": {},
   "outputs": [
    {
     "name": "stdout",
     "output_type": "stream",
     "text": [
      "['AN/ASQ‑235', 'Airborne', 'Mine', 'Neutralization', 'System', 'AMNS', 'Airborne', 'Laser', 'Mine', 'Detection', 'System', 'ALMDS', 'Coastal', 'Battlefield', 'Reconnaissance', 'Analysis', 'COBRA', 'Block']\n"
     ]
    }
   ],
   "source": [
    "nouns = [pos_token[0] for pos_token in pos_tags if pos_token[1] == \"NNP\"]\n",
    "print(nouns)"
   ]
  },
  {
   "cell_type": "markdown",
   "metadata": {
    "collapsed": true
   },
   "source": [
    "# Attempting the same with Spacy"
   ]
  },
  {
   "cell_type": "code",
   "execution_count": 6,
   "metadata": {},
   "outputs": [],
   "source": [
    "import spacy\n",
    "nlp = spacy.load('en')"
   ]
  },
  {
   "cell_type": "code",
   "execution_count": 7,
   "metadata": {},
   "outputs": [
    {
     "name": "stdout",
     "output_type": "stream",
     "text": [
      "Specifically\n",
      "ADV\n",
      ",\n",
      "PUNCT\n",
      "we\n",
      "PRON\n",
      "reviewed\n",
      "VERB\n",
      "the\n",
      "DET\n",
      "AN\n",
      "PROPN\n",
      "/\n",
      "SYM\n",
      "ASQ‑235\n",
      "PROPN\n",
      "Airborne\n",
      "PROPN\n",
      "Mine\n",
      "PROPN\n",
      "Neutralization\n",
      "PROPN\n",
      "System\n",
      "PROPN\n",
      "(\n",
      "PUNCT\n",
      "AMNS\n",
      "PROPN\n",
      ")\n",
      "PUNCT\n",
      ",\n",
      "PUNCT\n",
      "Airborne\n",
      "PROPN\n",
      "Laser\n",
      "PROPN\n",
      "Mine\n",
      "PROPN\n",
      "Detection\n",
      "PROPN\n",
      "System\n",
      "PROPN\n",
      "(\n",
      "PUNCT\n",
      "ALMDS\n",
      "PROPN\n",
      ")\n",
      "PUNCT\n",
      ",\n",
      "PUNCT\n",
      "and\n",
      "CCONJ\n",
      "Coastal\n",
      "PROPN\n",
      "Battlefield\n",
      "PROPN\n",
      "Reconnaissance\n",
      "PROPN\n",
      "and\n",
      "CCONJ\n",
      "Analysis\n",
      "PROPN\n",
      "(\n",
      "PUNCT\n",
      "COBRA\n",
      "PROPN\n",
      ")\n",
      "PUNCT\n",
      "Block\n",
      "PROPN\n",
      "I\n",
      "PRON\n",
      "systems\n",
      "VERB\n",
      ".\n",
      "PUNCT\n"
     ]
    }
   ],
   "source": [
    "token_stream = nlp(input)\n",
    "for i in token_stream:\n",
    "    print(i)\n",
    "    # the crucial difference is that Spacy marks up the whole document and then provides properties on each token.\n",
    "    # One of the Token properties you can look at is the part of speech\n",
    "    print(i.pos_)"
   ]
  },
  {
   "cell_type": "code",
   "execution_count": null,
   "metadata": {},
   "outputs": [],
   "source": []
  }
 ],
 "metadata": {
  "kernelspec": {
   "display_name": "Python 3",
   "language": "python",
   "name": "python3"
  },
  "language_info": {
   "codemirror_mode": {
    "name": "ipython",
    "version": 3
   },
   "file_extension": ".py",
   "mimetype": "text/x-python",
   "name": "python",
   "nbconvert_exporter": "python",
   "pygments_lexer": "ipython3",
   "version": "3.6.5"
  }
 },
 "nbformat": 4,
 "nbformat_minor": 2
}
